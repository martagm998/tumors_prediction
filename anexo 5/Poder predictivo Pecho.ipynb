{
 "cells": [
  {
   "cell_type": "markdown",
   "metadata": {},
   "source": [
    "# Poder predictivo de los modelos en el set de datos de pecho"
   ]
  },
  {
   "cell_type": "markdown",
   "metadata": {},
   "source": [
    "Predicción de los datos a partir del ajuste de un conjunto de datos n = 5 para el ratón 20."
   ]
  },
  {
   "cell_type": "code",
   "execution_count": 21,
   "metadata": {},
   "outputs": [
    {
     "data": {
      "text/plain": [
       "{'divide': 'warn', 'over': 'warn', 'under': 'ignore', 'invalid': 'warn'}"
      ]
     },
     "execution_count": 21,
     "metadata": {},
     "output_type": "execute_result"
    }
   ],
   "source": [
    "import sympy as sp\n",
    "import numpy as np\n",
    "import matplotlib.pyplot as plt\n",
    "import scipy as sci\n",
    "import math as m\n",
    "import pandas as pd\n",
    "from scipy.optimize import least_squares\n",
    "np.seterr(all='ignore')"
   ]
  },
  {
   "cell_type": "code",
   "execution_count": 22,
   "metadata": {},
   "outputs": [],
   "source": [
    "df = pd.read_csv('breast_vol_data.txt', delimiter = \"\\t\")\n",
    "raton20 = df.loc[df['ID'] == 20]\n",
    "raton20.to_csv('raton20_pecho.txt', header=False, sep='\\t', mode='w')"
   ]
  },
  {
   "cell_type": "code",
   "execution_count": 23,
   "metadata": {},
   "outputs": [],
   "source": [
    "n_20, ID_20, x20, y20 = np.loadtxt(\"raton20_pecho.txt\",delimiter=\"\\t\", unpack=True)\n",
    "x_a = x20[0:5]\n",
    "y_a = y20[0:5]"
   ]
  },
  {
   "cell_type": "code",
   "execution_count": 24,
   "metadata": {},
   "outputs": [],
   "source": [
    "x_p = x20[4:]\n",
    "y_p = y20[4:]"
   ]
  },
  {
   "cell_type": "markdown",
   "metadata": {},
   "source": [
    "### Modelo Exponencial $V_0 = 1 mm^3$"
   ]
  },
  {
   "cell_type": "markdown",
   "metadata": {},
   "source": [
    "#### Estimación de los parámetros para n = 5"
   ]
  },
  {
   "cell_type": "code",
   "execution_count": 25,
   "metadata": {},
   "outputs": [
    {
     "name": "stdout",
     "output_type": "stream",
     "text": [
      "`ftol` termination condition is satisfied.\n",
      "Function evaluations 26, initial cost 5.4415e+12, final cost 2.4751e+04, first-order optimality 2.00e+01.\n",
      "-------------------------------\n",
      "Parámetros estimados:\n",
      "parámetro[0]: 0.416\n",
      "parámetro[1]: 1.000\n",
      "-------------------------------\n",
      "\n"
     ]
    }
   ],
   "source": [
    "def exponencial_1(p,t):\n",
    "    return (1*np.exp(p[0]*t))\n",
    "\n",
    "param_list = []\n",
    "\n",
    "def residuos(p,t,y):\n",
    "    y_modelo = exponencial_1(p,t)\n",
    "    param_list.append(p)\n",
    "    return y_modelo - y\n",
    "\n",
    "parametros_iniciales =[1,1] \n",
    "\n",
    "resE1 = least_squares(residuos, parametros_iniciales, args=(x_a,y_a), verbose=1)\n",
    "print('-------------------------------')\n",
    "print('Parámetros estimados:')\n",
    "pV1 = []\n",
    "for i,param in enumerate(resE1.x):\n",
    "    print('parámetro[{:d}]: {:5.3f}'.format(i,param))\n",
    "    pV1.append(param)\n",
    "print('-------------------------------')\n",
    "print('')"
   ]
  },
  {
   "cell_type": "markdown",
   "metadata": {},
   "source": [
    "#### Predicción"
   ]
  },
  {
   "cell_type": "code",
   "execution_count": 26,
   "metadata": {},
   "outputs": [
    {
     "data": {
      "image/png": "[encoded data removed]",
      "text/plain": [
       "<Figure size 432x288 with 1 Axes>"
      ]
     },
     "metadata": {
      "needs_background": "light"
     },
     "output_type": "display_data"
    }
   ],
   "source": [
    "def exponencial_1(p,t):\n",
    "    return (1*np.exp(p[0]*t))\n",
    "\n",
    "# plot datos experimentales del ratón 2\n",
    "plt.plot(x_a,y_a, 'x', color = 'blue', label = 'datos ajuste')\n",
    "plt.plot(x_p,y_p, 'x', color = 'red', label = 'datos predicción')\n",
    "\n",
    "# plot ajuste de los 5 primeros datos\n",
    "y_ajuste = exponencial_1(pV1,x_a)\n",
    "plt.plot(x_a, y_ajuste, 'r-', color = 'blue', label = 'Ajuste')\n",
    "\n",
    "#plot predicción\n",
    "y_prediccion = exponencial_1(pV1,x_p)\n",
    "plt.plot(x_p,y_prediccion, '-.', color = 'red', label = 'Predicción')\n",
    "\n",
    "\n",
    "plt.xlabel(\"Tiempo (t)\")\n",
    "plt.ylabel(\"Volumen de células tumorales V(t)\")\n",
    "plt.legend(loc='best')\n",
    "plt.ylim(0,3000)\n",
    "plt.title('Exponencial V0=1')\n",
    "plt.savefig('predictivo_EV1_pecho.jpg')\n",
    "plt.show()"
   ]
  },
  {
   "cell_type": "markdown",
   "metadata": {},
   "source": [
    "### Modelo Exponencial $V_0$"
   ]
  },
  {
   "cell_type": "markdown",
   "metadata": {},
   "source": [
    "#### Estimación de los parámetros para n = 5"
   ]
  },
  {
   "cell_type": "code",
   "execution_count": 27,
   "metadata": {},
   "outputs": [
    {
     "name": "stdout",
     "output_type": "stream",
     "text": [
      "`ftol` termination condition is satisfied.\n",
      "Function evaluations 30, initial cost 5.4415e+12, final cost 2.0257e+03, first-order optimality 2.03e-01.\n",
      "-------------------------------\n",
      "Parámetros estimados:\n",
      "parámetro[0]: 24.686\n",
      "parámetro[1]: 0.195\n",
      "-------------------------------\n",
      "\n"
     ]
    }
   ],
   "source": [
    "def exponencial(p,t):\n",
    "    return (p[0]*np.exp(p[1]*t))\n",
    "\n",
    "param_list = []\n",
    "\n",
    "def residuos(p,t,y):\n",
    "    y_modelo = exponencial(p,t)\n",
    "    param_list.append(p)\n",
    "    return y_modelo - y\n",
    "\n",
    "parametros_iniciales =[1,1] \n",
    "\n",
    "resEV1 = least_squares(residuos, parametros_iniciales, args=(x_a,y_a), verbose=1)\n",
    "print('-------------------------------')\n",
    "print('Parámetros estimados:')\n",
    "pEV = []\n",
    "for i,param in enumerate(resEV1.x):\n",
    "    print('parámetro[{:d}]: {:5.3f}'.format(i,param))\n",
    "    pEV.append(param)\n",
    "print('-------------------------------')\n",
    "print('')"
   ]
  },
  {
   "cell_type": "markdown",
   "metadata": {},
   "source": [
    "#### Predicción"
   ]
  },
  {
   "cell_type": "code",
   "execution_count": 28,
   "metadata": {},
   "outputs": [
    {
     "data": {
      "image/png": "[encoded data removed]",
      "text/plain": [
       "<Figure size 432x288 with 1 Axes>"
      ]
     },
     "metadata": {
      "needs_background": "light"
     },
     "output_type": "display_data"
    }
   ],
   "source": [
    "def exponencial(p,t):\n",
    "    return (p[0]*np.exp(p[1]*t))\n",
    "\n",
    "# plot datos experimentales del ratón 2\n",
    "plt.plot(x_a,y_a, 'x', color = 'blue', label = 'datos ajuste')\n",
    "plt.plot(x_p,y_p, 'x', color = 'red', label = 'datos predicción')\n",
    "\n",
    "# plot ajuste de los 5 primeros datos\n",
    "y_ajuste = exponencial(pEV,x_a)\n",
    "plt.plot(x_a, y_ajuste, 'r-', color = 'blue', label = 'Ajuste')\n",
    "\n",
    "#plot predicción\n",
    "y_prediccion = exponencial(pEV,x_p)\n",
    "plt.plot(x_p,y_prediccion, '-.', color = 'red', label = 'Predicción')\n",
    "\n",
    "\n",
    "plt.xlabel(\"Tiempo (t)\")\n",
    "plt.ylabel(\"Volumen de células tumorales V(t)\")\n",
    "plt.legend(loc='best')\n",
    "plt.title('Exponencial V0')\n",
    "plt.savefig('predictivo_EV0_pecho.jpg')\n",
    "plt.show()"
   ]
  },
  {
   "cell_type": "markdown",
   "metadata": {},
   "source": [
    "### Modelo Exponencial - lineal"
   ]
  },
  {
   "cell_type": "markdown",
   "metadata": {},
   "source": [
    "#### Estimación de los parámetros para n = 5"
   ]
  },
  {
   "cell_type": "code",
   "execution_count": 29,
   "metadata": {},
   "outputs": [
    {
     "name": "stdout",
     "output_type": "stream",
     "text": [
      "`ftol` termination condition is satisfied.\n",
      "Function evaluations 22, initial cost 1.8089e+05, final cost 1.3374e+04, first-order optimality 1.04e-01.\n",
      "`ftol` termination condition is satisfied.\n",
      "Function evaluations 26, initial cost 5.4415e+12, final cost 2.4751e+04, first-order optimality 2.00e+01.\n",
      "-------------------------------\n",
      "Parámetros estimados exponencial:\n",
      "[0.41595864 1.        ]\n",
      "-------------------------------\n",
      "\n",
      "parámetro[0]: 1.000\n",
      "parámetro[1]: 23.463\n",
      "-------------------------------\n",
      "\n",
      "parámetro[0]: 0.416\n",
      "parámetro[1]: 1.000\n",
      "-------------------------------\n",
      "\n"
     ]
    }
   ],
   "source": [
    "def lineal(p,t):\n",
    "    return p[1]*t+1\n",
    "\n",
    "param_listL = []\n",
    "\n",
    "\n",
    "def residuosL(p,t,y):\n",
    "    param_listL.append(p)\n",
    "    y_modelo = lineal(p,t)\n",
    "    return y_modelo - y\n",
    "\n",
    "parametros_inicialesL =[1,1]\n",
    "\n",
    "resL = least_squares(residuosL, parametros_inicialesL, args=(x_a,y_a), verbose=1)\n",
    "\n",
    "\n",
    "#########\n",
    "\n",
    "def exp(p,t):\n",
    "    return (1*np.exp(p[0]*t))\n",
    "\n",
    "param_listE = []\n",
    "\n",
    "def residuosE(p,t,y):\n",
    "    param_listE.append(p)\n",
    "    y_modelo = exp(p,t)\n",
    "    return y_modelo - y\n",
    "\n",
    "parametros_inicialesE =[1,1]\n",
    "\n",
    "resE = least_squares(residuosE, parametros_inicialesE, args=(x_a,y_a), verbose=1)\n",
    "print('-------------------------------')\n",
    "print('Parámetros estimados exponencial:')\n",
    "print(resE.x)\n",
    "print('-------------------------------')\n",
    "print('')\n",
    "\n",
    "pL = []\n",
    "for i,param in enumerate(resL.x):\n",
    "    print('parámetro[{:d}]: {:5.3f}'.format(i,param))\n",
    "    pL.append(param)\n",
    "print('-------------------------------')\n",
    "print('')\n",
    "\n",
    "pEx = []\n",
    "for i,param in enumerate(resE.x):\n",
    "    print('parámetro[{:d}]: {:5.3f}'.format(i,param))\n",
    "    pEx.append(param)\n",
    "print('-------------------------------')\n",
    "print('')\n",
    "pEL = []\n",
    "pEL.append(pEx[0])\n",
    "pEL.append(pL[1])"
   ]
  },
  {
   "cell_type": "markdown",
   "metadata": {},
   "source": [
    "#### Predicción"
   ]
  },
  {
   "cell_type": "code",
   "execution_count": 30,
   "metadata": {},
   "outputs": [
    {
     "data": {
      "image/png": "[encoded data removed]",
      "text/plain": [
       "<Figure size 432x288 with 1 Axes>"
      ]
     },
     "metadata": {
      "needs_background": "light"
     },
     "output_type": "display_data"
    }
   ],
   "source": [
    "x_ar = x20[0:4]\n",
    "y_ar = y20[0:4]\n",
    "x_pr = x20[3:]\n",
    "y_pr = y20[3:]\n",
    "\n",
    "def lineal(p,t):\n",
    "    return p[1]*t+1\n",
    "\n",
    "def exp(p,t):\n",
    "    return (1*np.exp(p[0]*t))\n",
    "\n",
    "# plot datos experimentales del ratón 2\n",
    "plt.plot(x_a,y_a, 'x', color = 'blue', label = 'datos ajuste')\n",
    "plt.plot(x_p,y_p, 'x', color = 'red', label = 'datos predicción')\n",
    "\n",
    "\n",
    "# plot ajuste de los 5 primeros datos\n",
    "y_ajuste = exp(pEL,x_ar)\n",
    "plt.plot(x_ar, y_ajuste, 'r-', color = 'blue', label = 'Ajuste')\n",
    "\n",
    "\n",
    "\n",
    "#plot predicción\n",
    "y_prediccion = lineal(pEL,x_pr)\n",
    "plt.plot(x_pr,y_prediccion, '-.', color = 'red', label = 'Predicción')\n",
    "\n",
    "\n",
    "\n",
    "plt.xlabel(\"Tiempo (t)\")\n",
    "plt.ylabel(\"Volumen de células tumorales V(t)\")\n",
    "plt.legend(loc='best')\n",
    "plt.title('Exponencial Lineal')\n",
    "plt.savefig('predictivo_EL_pecho.jpg')\n",
    "plt.show()"
   ]
  },
  {
   "cell_type": "markdown",
   "metadata": {},
   "source": [
    "### Modelo Logístico"
   ]
  },
  {
   "cell_type": "markdown",
   "metadata": {},
   "source": [
    "#### Estimación de los parámetros para n = 5"
   ]
  },
  {
   "cell_type": "code",
   "execution_count": 31,
   "metadata": {},
   "outputs": [
    {
     "name": "stdout",
     "output_type": "stream",
     "text": [
      "`ftol` termination condition is satisfied.\n",
      "Function evaluations 44, initial cost 1.9614e+05, final cost 8.9626e+02, first-order optimality 6.82e-02.\n",
      "-------------------------------\n",
      "Parámetros estimados:\n",
      "parámetro[0]: 0.549\n",
      "parámetro[1]: 489.979\n",
      "-------------------------------\n",
      "\n"
     ]
    }
   ],
   "source": [
    "def modelo_logistico(p,t):\n",
    "    return (p[1]*1*np.exp(p[0]*t))/(p[1]+1*np.exp(p[0]*t)-1)\n",
    "\n",
    "param_list = []\n",
    "\n",
    "def residuos(p,t,y):\n",
    "    y_modelo = modelo_logistico(p,t)\n",
    "    param_list.append(p)\n",
    "    return y_modelo - y\n",
    "\n",
    "parametros_iniciales =[1,1] \n",
    "\n",
    "resLOG = least_squares(residuos, parametros_iniciales, args=(x_a,y_a), verbose=1)\n",
    "print('-------------------------------')\n",
    "print('Parámetros estimados:')\n",
    "pLOG = []\n",
    "for i,param in enumerate(resLOG.x):\n",
    "    print('parámetro[{:d}]: {:5.3f}'.format(i,param))\n",
    "    pLOG.append(param)\n",
    "print('-------------------------------')\n",
    "print('')"
   ]
  },
  {
   "cell_type": "markdown",
   "metadata": {},
   "source": [
    "#### Predicción"
   ]
  },
  {
   "cell_type": "code",
   "execution_count": 32,
   "metadata": {},
   "outputs": [
    {
     "data": {
      "image/png": "[encoded data removed]",
      "text/plain": [
       "<Figure size 432x288 with 1 Axes>"
      ]
     },
     "metadata": {
      "needs_background": "light"
     },
     "output_type": "display_data"
    }
   ],
   "source": [
    "def modelo_logistico(p,t):\n",
    "    return (p[1]*1*np.exp(p[0]*t))/(p[1]+1*np.exp(p[0]*t)-1)\n",
    "\n",
    "# plot datos experimentales del ratón 2\n",
    "plt.plot(x_a,y_a, 'x', color = 'blue', label = 'datos ajuste')\n",
    "plt.plot(x_p,y_p, 'x', color = 'red', label = 'datos predicción')\n",
    "\n",
    "# plot ajuste de los 5 primeros datos\n",
    "y_ajuste = modelo_logistico(pLOG,x_a)\n",
    "plt.plot(x_a, y_ajuste, 'r-', color = 'blue', label = 'Ajuste')\n",
    "\n",
    "#plot predicción\n",
    "y_prediccion = modelo_logistico(pLOG,x_p)\n",
    "plt.plot(x_p,y_prediccion, '-.', color = 'red', label = 'Predicción')\n",
    "\n",
    "\n",
    "plt.xlabel(\"Tiempo (t)\")\n",
    "plt.ylabel(\"Volumen de células tumorales V(t)\")\n",
    "plt.legend(loc='best')\n",
    "plt.ylim(0,3000)\n",
    "plt.title('Logístico')\n",
    "plt.savefig('predictivo_L_pecho.jpg')\n",
    "plt.show()"
   ]
  },
  {
   "cell_type": "markdown",
   "metadata": {},
   "source": [
    "### Modelo Logístico Generalizado"
   ]
  },
  {
   "cell_type": "markdown",
   "metadata": {},
   "source": [
    "#### Estimación de los parámetros para n = 5"
   ]
  },
  {
   "cell_type": "code",
   "execution_count": 33,
   "metadata": {},
   "outputs": [
    {
     "name": "stdout",
     "output_type": "stream",
     "text": [
      "`ftol` termination condition is satisfied.\n",
      "Function evaluations 54, initial cost 1.9614e+05, final cost 7.1872e+02, first-order optimality 6.31e-02.\n",
      "-------------------------------\n",
      "Parámetros estimados:\n",
      "parámetro[0]: 0.694\n",
      "parámetro[1]: 0.430\n",
      "parámetro[2]: 636.710\n",
      "-------------------------------\n",
      "\n"
     ]
    }
   ],
   "source": [
    "def modelo_lgeneralizado(p,t):\n",
    "    return((p[2])/((1**p[1]+(p[2]**p[1]-1**p[1])*np.exp(-p[0]*p[1]*t))**(1/p[1])))\n",
    "\n",
    "param_list = []\n",
    "\n",
    "def residuos(p,t,y):\n",
    "    y_modelo = modelo_lgeneralizado(p,t)\n",
    "    param_list.append(p)\n",
    "    return y_modelo - y\n",
    "\n",
    "parametros_iniciales =[0.9,2,1] \n",
    "\n",
    "resLG = least_squares(residuos, parametros_iniciales, args=(x_a,y_a), verbose=1)\n",
    "print('-------------------------------')\n",
    "print('Parámetros estimados:')\n",
    "pLG = []\n",
    "for i,param in enumerate(resLG.x):\n",
    "    print('parámetro[{:d}]: {:5.3f}'.format(i,param))\n",
    "    pLG.append(param)\n",
    "print('-------------------------------')\n",
    "print('')"
   ]
  },
  {
   "cell_type": "markdown",
   "metadata": {},
   "source": [
    "#### Predicción"
   ]
  },
  {
   "cell_type": "code",
   "execution_count": 34,
   "metadata": {},
   "outputs": [
    {
     "data": {
      "image/png": "[encoded data removed]",
      "text/plain": [
       "<Figure size 432x288 with 1 Axes>"
      ]
     },
     "metadata": {
      "needs_background": "light"
     },
     "output_type": "display_data"
    }
   ],
   "source": [
    "def modelo_lgeneralizado(p,t):\n",
    "    return((p[2])/((1**p[1]+(p[2]**p[1]-1**p[1])*np.exp(-p[0]*p[1]*t))**(1/p[1])))\n",
    "\n",
    "# plot datos experimentales del ratón 2\n",
    "plt.plot(x_a,y_a, 'x', color = 'blue', label = 'datos ajuste')\n",
    "plt.plot(x_p,y_p, 'x', color = 'red', label = 'datos predicción')\n",
    "\n",
    "# plot ajuste de los 5 primeros datos\n",
    "y_ajuste = modelo_lgeneralizado(pLG,x_a)\n",
    "plt.plot(x_a, y_ajuste, 'r-', color = 'blue', label = 'Ajuste')\n",
    "\n",
    "#plot predicción\n",
    "y_prediccion = modelo_lgeneralizado(pLG,x_p)\n",
    "plt.plot(x_p,y_prediccion, '-.', color = 'red', label = 'Predicción')\n",
    "\n",
    "\n",
    "plt.xlabel(\"Tiempo (t)\")\n",
    "plt.ylabel(\"Volumen de células tumorales V(t)\")\n",
    "plt.legend(loc='best')\n",
    "plt.ylim(0,3000)\n",
    "plt.title('Logístico Generalizado')\n",
    "plt.savefig('predictivo_LG_pecho.jpg')\n",
    "plt.show()"
   ]
  },
  {
   "cell_type": "markdown",
   "metadata": {},
   "source": [
    "### Modelo Gompertz"
   ]
  },
  {
   "cell_type": "markdown",
   "metadata": {},
   "source": [
    "#### Estimación de los parámetros para n = 5"
   ]
  },
  {
   "cell_type": "code",
   "execution_count": 35,
   "metadata": {},
   "outputs": [
    {
     "name": "stdout",
     "output_type": "stream",
     "text": [
      "`ftol` termination condition is satisfied.\n",
      "Function evaluations 14, initial cost 1.9403e+05, final cost 8.6010e+02, first-order optimality 2.12e-01.\n",
      "-------------------------------\n",
      "Parámetros estimados:\n",
      "parámetro[0]: 0.917\n",
      "parámetro[1]: 0.128\n",
      "-------------------------------\n",
      "\n"
     ]
    }
   ],
   "source": [
    "def modelo_gompertz(p,t):\n",
    "    return 1*np.exp((p[0]/p[1])*(1-np.exp(-p[1]*t)))\n",
    "\n",
    "param_list = []\n",
    "\n",
    "def residuos(p,t,y):\n",
    "    y_modelo = modelo_gompertz(p,t)\n",
    "    param_list.append(p)\n",
    "    return y_modelo - y\n",
    "\n",
    "parametros_iniciales =[1,1] \n",
    "\n",
    "resG = least_squares(residuos, parametros_iniciales, args=(x_a,y_a), verbose=1)\n",
    "print('-------------------------------')\n",
    "print('Parámetros estimados:')\n",
    "pG = []\n",
    "for i,param in enumerate(resG.x):\n",
    "    print('parámetro[{:d}]: {:5.3f}'.format(i,param))\n",
    "    pG.append(param)\n",
    "print('-------------------------------')\n",
    "print('')"
   ]
  },
  {
   "cell_type": "markdown",
   "metadata": {},
   "source": [
    "#### Predicción"
   ]
  },
  {
   "cell_type": "code",
   "execution_count": 36,
   "metadata": {},
   "outputs": [
    {
     "data": {
      "image/png": "[encoded data removed]",
      "text/plain": [
       "<Figure size 432x288 with 1 Axes>"
      ]
     },
     "metadata": {
      "needs_background": "light"
     },
     "output_type": "display_data"
    }
   ],
   "source": [
    "def modelo_gompertz(p,t):\n",
    "    return 1*np.exp((p[0]/p[1])*(1-np.exp(-p[1]*t)))\n",
    "\n",
    "# plot datos experimentales del ratón 2\n",
    "plt.plot(x_a,y_a, 'x', color = 'blue', label = 'datos ajuste')\n",
    "plt.plot(x_p,y_p, 'x', color = 'red', label = 'datos predicción')\n",
    "\n",
    "# plot ajuste de los 5 primeros datos\n",
    "y_ajuste = modelo_gompertz(pG,x_a)\n",
    "plt.plot(x_a, y_ajuste, 'r-', color = 'blue', label = 'Ajuste')\n",
    "\n",
    "#plot predicción\n",
    "y_prediccion = modelo_gompertz(pG,x_p)\n",
    "plt.plot(x_p,y_prediccion, '-.', color = 'red', label = 'Predicción')\n",
    "\n",
    "\n",
    "plt.xlabel(\"Tiempo (t)\")\n",
    "plt.ylabel(\"Volumen de células tumorales V(t)\")\n",
    "plt.legend(loc='best')\n",
    "plt.ylim(0,3000)\n",
    "plt.title('Logístico')\n",
    "plt.savefig('predictivo_G_pecho.jpg')\n",
    "plt.show()"
   ]
  },
  {
   "cell_type": "markdown",
   "metadata": {},
   "source": [
    "### Modelo Von Bertalanffy"
   ]
  },
  {
   "cell_type": "markdown",
   "metadata": {},
   "source": [
    "#### Estimación de los parámetros para n = 5"
   ]
  },
  {
   "cell_type": "code",
   "execution_count": 37,
   "metadata": {},
   "outputs": [
    {
     "name": "stdout",
     "output_type": "stream",
     "text": [
      "The maximum number of function evaluations is exceeded.\n",
      "Function evaluations 300, initial cost 1.9614e+05, final cost 8.6541e+02, first-order optimality 5.68e+04.\n",
      "-------------------------------\n",
      "Parámetros estimados:\n",
      "parámetro[0]: 16.551\n",
      "parámetro[1]: 15.626\n",
      "parámetro[2]: 0.992\n",
      "-------------------------------\n"
     ]
    }
   ],
   "source": [
    "def modelo_Bertalanffy(p,t):\n",
    "    return ((p[0]/p[1])+(1**(1-p[2])-(p[0]/p[1]))*np.exp((-p[1])*t*(1-p[2])))**(1/(1-p[2]))\n",
    "\n",
    "param_list = []\n",
    "\n",
    "def residuos(p,t,y):\n",
    "    y_modelo = modelo_Bertalanffy(p,t)\n",
    "    param_list.append(p)\n",
    "    return y_modelo - y\n",
    "\n",
    "parametros_iniciales =[1,1,0.9] \n",
    "\n",
    "resVB1 = least_squares(residuos, parametros_iniciales, args=(x_a,y_a), verbose=1)\n",
    "print('-------------------------------')\n",
    "print('Parámetros estimados:')\n",
    "pVB = []\n",
    "for i,param in enumerate(resVB1.x):\n",
    "    print('parámetro[{:d}]: {:5.3f}'.format(i,param))\n",
    "    pVB.append(param)\n",
    "print('-------------------------------')"
   ]
  },
  {
   "cell_type": "markdown",
   "metadata": {},
   "source": [
    "#### Predicción"
   ]
  },
  {
   "cell_type": "code",
   "execution_count": 38,
   "metadata": {},
   "outputs": [
    {
     "data": {
      "image/png": "[encoded data removed]",
      "text/plain": [
       "<Figure size 432x288 with 1 Axes>"
      ]
     },
     "metadata": {
      "needs_background": "light"
     },
     "output_type": "display_data"
    }
   ],
   "source": [
    "def modelo_Bertalanffy(p,t):\n",
    "    return ((p[0]/p[1])+(1**(1-p[2])-(p[0]/p[1]))*np.exp((-p[1])*t*(1-p[2])))**(1/(1-p[2]))\n",
    "\n",
    "\n",
    "# plot datos experimentales del ratón 2\n",
    "plt.plot(x_a,y_a, 'x', color = 'blue', label = 'datos ajuste')\n",
    "plt.plot(x_p,y_p, 'x', color = 'red', label = 'datos predicción')\n",
    "\n",
    "# plot ajuste de los 5 primeros datos\n",
    "y_ajuste = modelo_Bertalanffy(pVB,x_a)\n",
    "plt.plot(x_a, y_ajuste, 'r-', color = 'blue', label = 'Ajuste')\n",
    "\n",
    "#plot predicción\n",
    "y_prediccion = modelo_Bertalanffy(pVB,x_p)\n",
    "plt.plot(x_p,y_prediccion, '-.', color = 'red', label = 'Predicción')\n",
    "\n",
    "\n",
    "plt.xlabel(\"Tiempo (t)\")\n",
    "plt.ylabel(\"Volumen de células tumorales V(t)\")\n",
    "plt.legend(loc='best')\n",
    "plt.title('von Bertalanffy')\n",
    "plt.savefig('predictivo_VB_pecho.jpg')\n",
    "plt.show()"
   ]
  },
  {
   "cell_type": "markdown",
   "metadata": {},
   "source": [
    "### Modelo Power Law"
   ]
  },
  {
   "cell_type": "markdown",
   "metadata": {},
   "source": [
    "#### Estimación de los parámetros para n = 5"
   ]
  },
  {
   "cell_type": "code",
   "execution_count": 39,
   "metadata": {},
   "outputs": [
    {
     "name": "stdout",
     "output_type": "stream",
     "text": [
      "`ftol` termination condition is satisfied.\n",
      "Function evaluations 13, initial cost 5.0011e+07, final cost 1.1711e+03, first-order optimality 2.82e-02.\n",
      "-------------------------------\n",
      "Parámetros estimados:\n",
      "parámetro[0]: 0.625\n",
      "parámetro[1]: 1.581\n",
      "-------------------------------\n"
     ]
    }
   ],
   "source": [
    "def modelo_Power_law(p,t):\n",
    "    return ((p[0]*(1**(1-p[0]))-(1**(1-p[0]))-p[1]*t*(p[0]-1)**2)/(p[0]-1))**(-1/(p[0]-1))\n",
    "\n",
    "param_list = []\n",
    "\n",
    "def residuos(p,t,y):\n",
    "    y_modelo = modelo_Power_law(p,t)\n",
    "    param_list.append(p)\n",
    "    return y_modelo - y\n",
    "\n",
    "parametros_iniciales =[0.9,1] \n",
    "\n",
    "resVB1 = least_squares(residuos, parametros_iniciales, args=(x_a,y_a), verbose=1)\n",
    "print('-------------------------------')\n",
    "print('Parámetros estimados:')\n",
    "pVB = []\n",
    "for i,param in enumerate(resVB1.x):\n",
    "    print('parámetro[{:d}]: {:5.3f}'.format(i,param))\n",
    "    pVB.append(param)\n",
    "print('-------------------------------')"
   ]
  },
  {
   "cell_type": "markdown",
   "metadata": {},
   "source": [
    "#### Predicción"
   ]
  },
  {
   "cell_type": "code",
   "execution_count": 40,
   "metadata": {},
   "outputs": [
    {
     "data": {
      "image/png": "[encoded data removed]",
      "text/plain": [
       "<Figure size 432x288 with 1 Axes>"
      ]
     },
     "metadata": {
      "needs_background": "light"
     },
     "output_type": "display_data"
    }
   ],
   "source": [
    "# plot datos experimentales del ratón 2\n",
    "plt.plot(x_a,y_a, 'x', color = 'blue', label = 'datos ajuste')\n",
    "plt.plot(x_p,y_p, 'x', color = 'red', label = 'datos predicción')\n",
    "\n",
    "# plot ajuste de los 5 primeros datos\n",
    "y_ajuste = modelo_Power_law(pVB,x_a)\n",
    "plt.plot(x_a, y_ajuste, 'r-', color = 'blue', label = 'Ajuste')\n",
    "\n",
    "#plot predicción\n",
    "y_prediccion = modelo_Power_law(pVB,x_p)\n",
    "plt.plot(x_p,y_prediccion, '-.', color = 'red', label = 'Predicción')\n",
    "\n",
    "\n",
    "plt.xlabel(\"Tiempo (t)\")\n",
    "plt.ylabel(\"Volumen de células tumorales V(t)\")\n",
    "plt.legend(loc='best')\n",
    "plt.title('Power Law')\n",
    "plt.savefig('predictivo_PwL_pecho.jpg')\n",
    "plt.show()"
   ]
  }
 ],
 "metadata": {
  "kernelspec": {
   "display_name": "Python 3",
   "language": "python",
   "name": "python3"
  },
  "language_info": {
   "codemirror_mode": {
    "name": "ipython",
    "version": 3
   },
   "file_extension": ".py",
   "mimetype": "text/x-python",
   "name": "python",
   "nbconvert_exporter": "python",
   "pygments_lexer": "ipython3",
   "version": "3.7.6"
  }
 },
 "nbformat": 4,
 "nbformat_minor": 4
}
