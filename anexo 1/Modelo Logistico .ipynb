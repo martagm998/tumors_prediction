{
 "cells": [
  {
   "cell_type": "markdown",
   "metadata": {},
   "source": [
    "# Modelo Logístico "
   ]
  },
  {
   "cell_type": "markdown",
   "metadata": {},
   "source": [
    "El modelo logístico viene definido por la ecuación: \n",
    "\n",
    "$$\t\n",
    "\\begin{cases}\n",
    "\\frac{dV}{dt}= aV(1-\\frac{V}{K})\\\\\n",
    "V(t=0) = 1mm^{3}\n",
    "\\end{cases}\n",
    "$$\n",
    "\n",
    "Donde: \n",
    "    - K es la capacidad de carga\n",
    "    - a es la tasa de crecimiento intrínseca de la especie"
   ]
  },
  {
   "cell_type": "code",
   "execution_count": 1,
   "metadata": {},
   "outputs": [],
   "source": [
    "import numpy as np\n",
    "import matplotlib.pyplot as plt\n",
    "import scipy.integrate as scint\n",
    "import sympy as sp"
   ]
  },
  {
   "cell_type": "code",
   "execution_count": 2,
   "metadata": {},
   "outputs": [],
   "source": [
    "#Definicion de las variables\n",
    "t, V0, a, C1, A=sp.symbols('t V0 a C1 A')\n",
    "K = sp.symbols('K', positive = True)\n",
    "V = sp.Function('V')"
   ]
  },
  {
   "cell_type": "markdown",
   "metadata": {},
   "source": [
    "Obsérvese que ya hemos introducido $C_1$ como símbolo. Es el nombre que el sistema da a la constate de integración"
   ]
  },
  {
   "cell_type": "code",
   "execution_count": 3,
   "metadata": {
    "scrolled": true
   },
   "outputs": [
    {
     "data": {
      "text/latex": [
       "$\\displaystyle \\frac{d}{d t} V{\\left(t \\right)} = a \\left(1 - \\frac{V{\\left(t \\right)}}{K}\\right) V{\\left(t \\right)}$"
      ],
      "text/plain": [
       "Eq(Derivative(V(t), t), a*(1 - V(t)/K)*V(t))"
      ]
     },
     "execution_count": 3,
     "metadata": {},
     "output_type": "execute_result"
    }
   ],
   "source": [
    "#Modelo\n",
    "m_log = sp.Eq(V(t).diff(), a*V(t)*(1-(V(t)/K)))\n",
    "m_log"
   ]
  },
  {
   "cell_type": "code",
   "execution_count": 4,
   "metadata": {
    "scrolled": true
   },
   "outputs": [
    {
     "data": {
      "text/latex": [
       "$\\displaystyle V{\\left(t \\right)} = \\frac{K e^{C_{1} K + a t}}{e^{C_{1} K + a t} - 1}$"
      ],
      "text/plain": [
       "Eq(V(t), K*exp(C1*K + a*t)/(exp(C1*K + a*t) - 1))"
      ]
     },
     "execution_count": 4,
     "metadata": {},
     "output_type": "execute_result"
    }
   ],
   "source": [
    "#Solución modelo\n",
    "m_log2 = sp.dsolve(m_log)\n",
    "m_log2"
   ]
  },
  {
   "cell_type": "markdown",
   "metadata": {},
   "source": [
    "A continuación expresamos la solución en función de la condición inicial $V_0$ en $t=0$"
   ]
  },
  {
   "cell_type": "code",
   "execution_count": 5,
   "metadata": {},
   "outputs": [
    {
     "data": {
      "text/latex": [
       "$\\displaystyle V_{0} = \\frac{K e^{C_{1} K}}{e^{C_{1} K} - 1}$"
      ],
      "text/plain": [
       "Eq(V0, K*exp(C1*K)/(exp(C1*K) - 1))"
      ]
     },
     "execution_count": 5,
     "metadata": {},
     "output_type": "execute_result"
    }
   ],
   "source": [
    "m_log3 = sp.Eq(V(t).subs(t,0).subs(V(0), V0), m_log2.rhs.subs(t,0))\n",
    "m_log3"
   ]
  },
  {
   "cell_type": "markdown",
   "metadata": {},
   "source": [
    "Resolvemos la anterior ecuación para obtener la constante $c_1$ en función de la condición inicial $V_0$ y de $K$"
   ]
  },
  {
   "cell_type": "code",
   "execution_count": 6,
   "metadata": {},
   "outputs": [
    {
     "data": {
      "text/plain": [
       "[log(-V0/(K - V0))/K]"
      ]
     },
     "execution_count": 6,
     "metadata": {},
     "output_type": "execute_result"
    }
   ],
   "source": [
    "#Calculamos el valor de la constante C1\n",
    "cte = sp.solve(m_log3,C1)\n",
    "cte"
   ]
  },
  {
   "cell_type": "markdown",
   "metadata": {},
   "source": [
    "Solución general en función de la condición y los parámetros del modelo: $a$ y $K$"
   ]
  },
  {
   "cell_type": "code",
   "execution_count": 7,
   "metadata": {},
   "outputs": [
    {
     "data": {
      "text/latex": [
       "$\\displaystyle V{\\left(t \\right)} = - \\frac{K V_{0} e^{a t}}{\\left(K - V_{0}\\right) \\left(- \\frac{V_{0} e^{a t}}{K - V_{0}} - 1\\right)}$"
      ],
      "text/plain": [
       "Eq(V(t), -K*V0*exp(a*t)/((K - V0)*(-V0*exp(a*t)/(K - V0) - 1)))"
      ]
     },
     "execution_count": 7,
     "metadata": {},
     "output_type": "execute_result"
    }
   ],
   "source": [
    "solucion_log = m_log2.subs(C1,cte[0])\n",
    "solucion_log"
   ]
  },
  {
   "cell_type": "code",
   "execution_count": 8,
   "metadata": {},
   "outputs": [
    {
     "data": {
      "text/latex": [
       "$\\displaystyle V{\\left(t \\right)} = \\frac{K V_{0} e^{a t}}{K + V_{0} e^{a t} - V_{0}}$"
      ],
      "text/plain": [
       "Eq(V(t), K*V0*exp(a*t)/(K + V0*exp(a*t) - V0))"
      ]
     },
     "execution_count": 8,
     "metadata": {},
     "output_type": "execute_result"
    }
   ],
   "source": [
    "sol_log_simp = sp.simplify(solucion_log)\n",
    "sol_log_simp"
   ]
  },
  {
   "cell_type": "markdown",
   "metadata": {},
   "source": [
    "#### Ecuación logística\n",
    "\n",
    "- Ecuación:\n",
    "\n",
    "\\begin{cases}\n",
    "\\frac{dV}{dt}= aV(1-\\frac{V}{K})\\\\\n",
    "V(t=0) = 1mm^{3}\n",
    "\\end{cases}\n",
    "\n",
    "- Solución:\n",
    "$$\n",
    "V(t)=\\frac{KV_0e^{at}}{K+V_0e^{at}-V_0}\n",
    "$$\n",
    "\n",
    "La solución obtenida se corresponde a la solucion explícita del modelo cuando $v=1$. \n",
    "\n",
    "Solución explícita:\n",
    "$$\n",
    "V(t)=\\frac{KV_0}{(V_0^{v}+(K^{v}-V_0^{v})e^{-avt})^{\\frac{1}{v}}}\n",
    "$$"
   ]
  },
  {
   "cell_type": "markdown",
   "metadata": {},
   "source": [
    "#### Estudio de los puntos de equilibrio"
   ]
  },
  {
   "cell_type": "code",
   "execution_count": 9,
   "metadata": {},
   "outputs": [
    {
     "data": {
      "text/latex": [
       "$\\displaystyle a \\left(1 - \\frac{V{\\left(t \\right)}}{K}\\right) V{\\left(t \\right)}$"
      ],
      "text/plain": [
       "a*(1 - V(t)/K)*V(t)"
      ]
     },
     "execution_count": 9,
     "metadata": {},
     "output_type": "execute_result"
    }
   ],
   "source": [
    "m_log.rhs"
   ]
  },
  {
   "cell_type": "code",
   "execution_count": 10,
   "metadata": {},
   "outputs": [
    {
     "data": {
      "text/plain": [
       "[0, K]"
      ]
     },
     "execution_count": 10,
     "metadata": {},
     "output_type": "execute_result"
    }
   ],
   "source": [
    "p_crit = sp.solve(m_log.rhs, V(t))\n",
    "p_crit"
   ]
  },
  {
   "cell_type": "code",
   "execution_count": 11,
   "metadata": {},
   "outputs": [
    {
     "data": {
      "text/plain": [
       "(0, K)"
      ]
     },
     "execution_count": 11,
     "metadata": {},
     "output_type": "execute_result"
    }
   ],
   "source": [
    "p_crit1 = p_crit[0]\n",
    "p_crit2 = p_crit[1]\n",
    "p_crit1, p_crit2"
   ]
  },
  {
   "cell_type": "markdown",
   "metadata": {},
   "source": [
    "Los puntos críticos de la ecuación logística son:\n",
    "- 0: punto asintóticamente inestable. El crecimiento puede darse si la posblación inicial es distinta de cero. \n",
    "- K: punto asintoticamente estable. Las trayectorias tienden a este cuando el tiempo tiende a $\\infty$\n",
    "\n",
    "A continuacion estudiamos la estabilidad de los puntos críticos del sistema"
   ]
  },
  {
   "cell_type": "code",
   "execution_count": 12,
   "metadata": {},
   "outputs": [
    {
     "data": {
      "text/plain": [
       "(a, -a)"
      ]
     },
     "execution_count": 12,
     "metadata": {},
     "output_type": "execute_result"
    }
   ],
   "source": [
    "pendiente_0 = m_log.rhs.diff(V(t)).subs(V(t), p_crit[0])\n",
    "#sustituyo p por el segundo indice de la lista\n",
    "pendiente_K = m_log.rhs.diff(V(t)).subs(V(t), p_crit[1])\n",
    "\n",
    "pendiente_0, pendiente_K"
   ]
  },
  {
   "cell_type": "markdown",
   "metadata": {},
   "source": [
    "El comportamiento del modelo no depende del valor de la población máxima $K.$ Solo depende del signo de la tasa intrísca de crecimiento p.c. $a.$ \n",
    "\n",
    "Obsérvese que la estabilidad de las soluciones de equilibrio cambia con el signo de $a.$"
   ]
  },
  {
   "cell_type": "markdown",
   "metadata": {},
   "source": [
    "#### Representación gráfica de las soluciones del Modelo Logístico\n"
   ]
  },
  {
   "cell_type": "code",
   "execution_count": 24,
   "metadata": {},
   "outputs": [
    {
     "data": {
      "image/png": "[encoded data removed]",
      "text/plain": [
       "<Figure size 432x288 with 1 Axes>"
      ]
     },
     "metadata": {
      "needs_background": "light"
     },
     "output_type": "display_data"
    }
   ],
   "source": [
    "tiempo = np.linspace(0,21,50)\n",
    "a = 0.5\n",
    "K = 100\n",
    "V0 = 1\n",
    "\n",
    "graf_log = sp.lambdify(t, (K*V0*sp.exp(a*t))/(K+(V0*sp.exp(a*t))-V0))\n",
    "\n",
    "plt.plot(tiempo, graf_log(tiempo))\n",
    "plt.xlabel(\"Tiempo\")\n",
    "plt.ylabel(\"Volumen\")\n",
    "plt.savefig('modelo_logistico.png')\n",
    "plt.show()"
   ]
  },
  {
   "cell_type": "code",
   "execution_count": 14,
   "metadata": {},
   "outputs": [
    {
     "data": {
      "image/png": "[encoded data removed]",
      "text/plain": [
       "<Figure size 720x360 with 1 Axes>"
      ]
     },
     "metadata": {
      "needs_background": "light"
     },
     "output_type": "display_data"
    }
   ],
   "source": [
    "t, V0, a, K =sp.symbols('t V0 a K')\n",
    "\n",
    "# Alargamos la figura para que se vean mejor de las curvas\n",
    "plt.figure(figsize =(10,5))\n",
    "\n",
    "graf_log = (K*V0*sp.exp(a*t))/(K+(V0*sp.exp(a*t))-V0)\n",
    "\n",
    "\n",
    "# Generamos los valores de la variable independiente\n",
    "t1 = np.linspace(0, 100, 300)\n",
    "\n",
    "# Construimos varios bucles para representar las soluciones pedidas\n",
    "# Para representar las soluciones constantes no se puede utilizar lambdify \n",
    "# Primero representamos las soluciones entre 0 y 250 \n",
    "for ini in np.linspace(5, 10, 4):\n",
    "    solp_l = sp.lambdify(t, graf_log.subs({a:0.302, K:1479, V0:ini}))\n",
    "    plt.plot(t1, solp_l(t1))\n",
    "\n",
    "# Acabamos representando las soluciones constantes\n",
    "for ini in [0, 1]:\n",
    "    plt.plot(t1, ini*np.ones(300))\n",
    "\n",
    "#  Ponemos título a los ejes\n",
    "plt.xlabel('Tiempo')\n",
    "plt.ylabel('Población')\n",
    "\n",
    "# Mostramos la figura\n",
    "plt.show()"
   ]
  },
  {
   "cell_type": "markdown",
   "metadata": {},
   "source": [
    "# Modelo logístico generalizado\n",
    "Ecuación del modelo:\n",
    "$$\t\n",
    "\\begin{cases}\n",
    "\\frac{dV}{dt}= aV(1-(\\frac{V}{K})^{b})\\\\\n",
    "V(t=0) = 1mm^{3}\n",
    "\\end{cases}\n",
    "$$\n"
   ]
  },
  {
   "cell_type": "code",
   "execution_count": 15,
   "metadata": {},
   "outputs": [],
   "source": [
    "import math"
   ]
  },
  {
   "cell_type": "code",
   "execution_count": 16,
   "metadata": {},
   "outputs": [],
   "source": [
    "t, V0, a, C1 = sp.symbols('t V0 a C1')\n",
    "K, b = sp.symbols('K b', positive=True)\n",
    "V=sp.Function('V')"
   ]
  },
  {
   "cell_type": "code",
   "execution_count": 17,
   "metadata": {},
   "outputs": [
    {
     "data": {
      "text/latex": [
       "$\\displaystyle \\frac{d}{d t} V{\\left(t \\right)} = a \\left(1 - \\left(\\frac{V{\\left(t \\right)}}{K}\\right)^{b}\\right) V{\\left(t \\right)}$"
      ],
      "text/plain": [
       "Eq(Derivative(V(t), t), a*(1 - (V(t)/K)**b)*V(t))"
      ]
     },
     "execution_count": 17,
     "metadata": {},
     "output_type": "execute_result"
    }
   ],
   "source": [
    "log_general = sp.Eq(V(t).diff(), a*V(t)*(1-(V(t)/K)**b))\n",
    "log_general"
   ]
  },
  {
   "cell_type": "code",
   "execution_count": 18,
   "metadata": {},
   "outputs": [
    {
     "data": {
      "text/latex": [
       "$\\displaystyle V{\\left(t \\right)} = K \\left(- \\frac{e^{b \\left(C_{1} K^{b} + a t\\right)}}{1 - e^{b \\left(C_{1} K^{b} + a t\\right)}}\\right)^{\\frac{1}{b}}$"
      ],
      "text/plain": [
       "Eq(V(t), K*(-exp(b*(C1*K**b + a*t))/(1 - exp(b*(C1*K**b + a*t))))**(1/b))"
      ]
     },
     "execution_count": 18,
     "metadata": {},
     "output_type": "execute_result"
    }
   ],
   "source": [
    "sol_log_general = sp.dsolve(log_general)\n",
    "sol_log_general"
   ]
  },
  {
   "cell_type": "markdown",
   "metadata": {},
   "source": [
    "A continuación expresamos la solución en función de la condición inicial $V_0$ en $t=0$"
   ]
  },
  {
   "cell_type": "code",
   "execution_count": 19,
   "metadata": {},
   "outputs": [
    {
     "data": {
      "text/latex": [
       "$\\displaystyle V_{0} = K \\left(- \\frac{e^{C_{1} K^{b} b}}{1 - e^{C_{1} K^{b} b}}\\right)^{\\frac{1}{b}}$"
      ],
      "text/plain": [
       "Eq(V0, K*(-exp(C1*K**b*b)/(1 - exp(C1*K**b*b)))**(1/b))"
      ]
     },
     "execution_count": 19,
     "metadata": {},
     "output_type": "execute_result"
    }
   ],
   "source": [
    "log_gen = sp.Eq(V(t).subs(t,0).subs(V(0), V0), sol_log_general.rhs.subs(t,0))\n",
    "log_gen"
   ]
  },
  {
   "cell_type": "markdown",
   "metadata": {},
   "source": [
    "Resolvemos la anterior ecuación para obtener la constante $c_1$ en función de la condición inicial $V_0$ y de $K$"
   ]
  },
  {
   "cell_type": "code",
   "execution_count": 20,
   "metadata": {},
   "outputs": [
    {
     "data": {
      "text/plain": [
       "[K**(-b)*log(V0**b/(-K**b + V0**b))/b]"
      ]
     },
     "execution_count": 20,
     "metadata": {},
     "output_type": "execute_result"
    }
   ],
   "source": [
    "#Calculamos el valor de la constante C1\n",
    "cte_general = sp.solve(log_gen,C1)\n",
    "cte_general"
   ]
  },
  {
   "cell_type": "code",
   "execution_count": 21,
   "metadata": {},
   "outputs": [
    {
     "data": {
      "text/latex": [
       "$\\displaystyle V{\\left(t \\right)} = K \\left(- \\frac{e^{b \\left(C_{1} K^{b} + a t\\right)}}{1 - e^{b \\left(C_{1} K^{b} + a t\\right)}}\\right)^{\\frac{1}{b}}$"
      ],
      "text/plain": [
       "Eq(V(t), K*(-exp(b*(C1*K**b + a*t))/(1 - exp(b*(C1*K**b + a*t))))**(1/b))"
      ]
     },
     "execution_count": 21,
     "metadata": {},
     "output_type": "execute_result"
    }
   ],
   "source": [
    "solucion_log_generalizada = sol_log_general.subs(C1,cte_general)\n",
    "solucion_log_generalizada"
   ]
  },
  {
   "cell_type": "markdown",
   "metadata": {},
   "source": [
    "#### Ecuación logística generalizada\n",
    "\n",
    "    - Ecuación:\n",
    "\t\n",
    "\\begin{cases}\n",
    "\\frac{dV}{dt}= aV(1-(\\frac{V}{K})^{b})\\\\\n",
    "V(t=0) = 1mm^{3}\n",
    "\\end{cases}\n",
    "\n",
    "    - Solución:\n",
    "$$\n",
    "V(t)=K(-\\frac{e^{b(C_1K^{b}+at)}}{1-e^{b(C_1K^{b}+at)}})^{\\frac{1}{b}}\n",
    "$$\n",
    "\n",
    "Python no consigue llegar a la misma solución.  \n",
    "\n",
    "Solución explícita:\n",
    "$$\n",
    "V(t)=\\frac{V_0K}{(V_0^{v}+(K^{v}-V_0^{v})e^{-avt})^{\\frac{1}{v}}}\n",
    "$$\n"
   ]
  },
  {
   "cell_type": "code",
   "execution_count": 22,
   "metadata": {},
   "outputs": [
    {
     "data": {
      "text/latex": [
       "$\\displaystyle a \\left(1 - \\left(\\frac{V{\\left(t \\right)}}{K}\\right)^{b}\\right) V{\\left(t \\right)}$"
      ],
      "text/plain": [
       "a*(1 - (V(t)/K)**b)*V(t)"
      ]
     },
     "execution_count": 22,
     "metadata": {},
     "output_type": "execute_result"
    }
   ],
   "source": [
    "log_general.rhs"
   ]
  },
  {
   "cell_type": "code",
   "execution_count": 23,
   "metadata": {},
   "outputs": [
    {
     "data": {
      "text/plain": [
       "[0, K]"
      ]
     },
     "execution_count": 23,
     "metadata": {},
     "output_type": "execute_result"
    }
   ],
   "source": [
    "p_crit_general = sp.solve(log_general.rhs, V(t))\n",
    "p_crit_general"
   ]
  },
  {
   "cell_type": "markdown",
   "metadata": {},
   "source": [
    "Como vemos los puntos críticos son idénticos para el Modelo logístico y el Modelo logístico generalizado. Al no obtenerse un cambio de signo en los puntos críticos, el comportamiento es idéntico en ambos modelos. "
   ]
  },
  {
   "cell_type": "code",
   "execution_count": null,
   "metadata": {},
   "outputs": [],
   "source": []
  }
 ],
 "metadata": {
  "kernelspec": {
   "display_name": "Python 3",
   "language": "python",
   "name": "python3"
  },
  "language_info": {
   "codemirror_mode": {
    "name": "ipython",
    "version": 3
   },
   "file_extension": ".py",
   "mimetype": "text/x-python",
   "name": "python",
   "nbconvert_exporter": "python",
   "pygments_lexer": "ipython3",
   "version": "3.7.6"
  }
 },
 "nbformat": 4,
 "nbformat_minor": 4
}
