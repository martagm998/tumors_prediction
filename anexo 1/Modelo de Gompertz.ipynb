{
 "cells": [
  {
   "cell_type": "markdown",
   "metadata": {},
   "source": [
    "## Modelo de Gompertz\n",
    "Estudiar el comportamiento del modelo de Gompertz para el crecimiento de tumores:  \n",
    "\n",
    "\\begin{cases}\n",
    "\\frac{dV}{dt} = aVe^{-\\beta t}\\\\\n",
    "V(t=0) = 1mm^3\n",
    "\\end{cases}\n",
    "\n",
    "- $a $: es la tasa inicial de proliferación\n",
    "- $\\beta$ es la tasa de decrecimiento exponencial de la tasa de proliferación"
   ]
  },
  {
   "cell_type": "code",
   "execution_count": 1,
   "metadata": {},
   "outputs": [],
   "source": [
    "import sympy as sp\n",
    "import numpy as np\n",
    "import matplotlib.pyplot as plt\n",
    "sp.init_printing()"
   ]
  },
  {
   "cell_type": "code",
   "execution_count": 2,
   "metadata": {},
   "outputs": [],
   "source": [
    "#Definicion de variables\n",
    "t,V0, a, C1 =sp.symbols('t Vo a C1')\n",
    "K, b = sp.symbols('K b', positive=True)\n",
    "V = sp.Function('V')"
   ]
  },
  {
   "cell_type": "code",
   "execution_count": 3,
   "metadata": {},
   "outputs": [
    {
     "data": {
      "image/png": "[encoded data removed]",
      "text/latex": [
       "$\\displaystyle \\frac{d}{d t} V{\\left(t \\right)} = a V{\\left(t \\right)} e^{- b t}$"
      ],
      "text/plain": [
       "d                  -b⋅t\n",
       "──(V(t)) = a⋅V(t)⋅ℯ    \n",
       "dt                     "
      ]
     },
     "execution_count": 3,
     "metadata": {},
     "output_type": "execute_result"
    }
   ],
   "source": [
    "#Modelo\n",
    "gompertz = sp.Eq(V(t).diff(), a*V(t)*sp.exp(-b*t))\n",
    "gompertz"
   ]
  },
  {
   "cell_type": "code",
   "execution_count": 4,
   "metadata": {},
   "outputs": [
    {
     "data": {
      "image/png": "[encoded data removed]",
      "text/latex": [
       "$\\displaystyle V{\\left(t \\right)} = C_{1} e^{- \\frac{a e^{- b t}}{b}}$"
      ],
      "text/plain": [
       "               -b⋅t \n",
       "           -a⋅ℯ     \n",
       "           ─────────\n",
       "               b    \n",
       "V(t) = C₁⋅ℯ         "
      ]
     },
     "execution_count": 4,
     "metadata": {},
     "output_type": "execute_result"
    }
   ],
   "source": [
    "#Solucion modelo\n",
    "solucion_gomp = sp.dsolve(gompertz)\n",
    "solucion_gomp"
   ]
  },
  {
   "cell_type": "markdown",
   "metadata": {},
   "source": [
    "A continuación expresamos la solución en función de la condición inicial $V_0$ en $t=0$"
   ]
  },
  {
   "cell_type": "code",
   "execution_count": 5,
   "metadata": {},
   "outputs": [
    {
     "data": {
      "image/png": "[encoded data removed]",
      "text/latex": [
       "$\\displaystyle Vo = C_{1} e^{- \\frac{a}{b}}$"
      ],
      "text/plain": [
       "         -a \n",
       "         ───\n",
       "          b \n",
       "Vo = C₁⋅ℯ   "
      ]
     },
     "execution_count": 5,
     "metadata": {},
     "output_type": "execute_result"
    }
   ],
   "source": [
    "gomp2 = sp.Eq(V(t).subs(t,0).subs(V(0), V0), solucion_gomp.rhs.subs(t,0))\n",
    "gomp2"
   ]
  },
  {
   "cell_type": "markdown",
   "metadata": {},
   "source": [
    "Resolvemos la anterior ecuación para obtener la constante $c_1$ en función de la condición inicial $V_0$ y de $K$"
   ]
  },
  {
   "cell_type": "code",
   "execution_count": 6,
   "metadata": {},
   "outputs": [
    {
     "data": {
      "image/png": "[encoded data removed]",
      "text/latex": [
       "$\\displaystyle \\left[ Vo e^{\\frac{a}{b}}\\right]$"
      ],
      "text/plain": [
       "⎡    a⎤\n",
       "⎢    ─⎥\n",
       "⎢    b⎥\n",
       "⎣Vo⋅ℯ ⎦"
      ]
     },
     "execution_count": 6,
     "metadata": {},
     "output_type": "execute_result"
    }
   ],
   "source": [
    "#Calculamos el valor de la constante C1\n",
    "cte_gomp = sp.solve(gomp2,C1)\n",
    "cte_gomp"
   ]
  },
  {
   "cell_type": "markdown",
   "metadata": {},
   "source": [
    "Solución general en función de la condición y los parámetros del modelo: $a$ y $b$"
   ]
  },
  {
   "cell_type": "code",
   "execution_count": 7,
   "metadata": {},
   "outputs": [
    {
     "data": {
      "image/png": "[encoded data removed]",
      "text/latex": [
       "$\\displaystyle V{\\left(t \\right)} = Vo e^{\\frac{a}{b}} e^{- \\frac{a e^{- b t}}{b}}$"
      ],
      "text/plain": [
       "                  -b⋅t \n",
       "           a  -a⋅ℯ     \n",
       "           ─  ─────────\n",
       "           b      b    \n",
       "V(t) = Vo⋅ℯ ⋅ℯ         "
      ]
     },
     "execution_count": 7,
     "metadata": {},
     "output_type": "execute_result"
    }
   ],
   "source": [
    "gomp3 = solucion_gomp.subs(C1,cte_gomp[0])\n",
    "gomp3"
   ]
  },
  {
   "cell_type": "code",
   "execution_count": 8,
   "metadata": {},
   "outputs": [
    {
     "data": {
      "image/png": "[encoded data removed]",
      "text/latex": [
       "$\\displaystyle V{\\left(t \\right)} = Vo e^{\\frac{a \\left(1 - e^{- b t}\\right)}{b}}$"
      ],
      "text/plain": [
       "             ⎛     -b⋅t⎞\n",
       "           a⋅⎝1 - ℯ    ⎠\n",
       "           ─────────────\n",
       "                 b      \n",
       "V(t) = Vo⋅ℯ             "
      ]
     },
     "execution_count": 8,
     "metadata": {},
     "output_type": "execute_result"
    }
   ],
   "source": [
    "sol_gomp_simplificado = sp.simplify(gomp3)\n",
    "sol_gomp_simplificado"
   ]
  },
  {
   "cell_type": "markdown",
   "metadata": {},
   "source": [
    "#### Ecuación de Gompertz\n",
    "    - Ecuación:\n",
    "$$\t\n",
    "\\begin{cases}\n",
    "\\frac{dV}{dt} = aVe^{-\\beta t}\\\\\n",
    "V(t=0) = 1mm^3\n",
    "\\end{cases}\n",
    "$$\n",
    "    - Solución:\n",
    "$$\n",
    "V(t)= V_0e^{\\frac{a(1-e^{-bt})}{b}}\n",
    "$$\n",
    "\n",
    "#### Estudio de los puntos de equilibrio"
   ]
  },
  {
   "cell_type": "code",
   "execution_count": 9,
   "metadata": {},
   "outputs": [
    {
     "data": {
      "image/png": "[encoded data removed]",
      "text/latex": [
       "$\\displaystyle a V{\\left(t \\right)} e^{- b t}$"
      ],
      "text/plain": [
       "        -b⋅t\n",
       "a⋅V(t)⋅ℯ    "
      ]
     },
     "execution_count": 9,
     "metadata": {},
     "output_type": "execute_result"
    }
   ],
   "source": [
    "gompertz.rhs"
   ]
  },
  {
   "cell_type": "code",
   "execution_count": 10,
   "metadata": {},
   "outputs": [
    {
     "data": {
      "image/png": "[encoded data removed]",
      "text/latex": [
       "$\\displaystyle \\left[ 0\\right]$"
      ],
      "text/plain": [
       "[0]"
      ]
     },
     "execution_count": 10,
     "metadata": {},
     "output_type": "execute_result"
    }
   ],
   "source": [
    "gomp_crit = sp.solve(gompertz.rhs, V(t))\n",
    "gomp_crit"
   ]
  },
  {
   "cell_type": "code",
   "execution_count": 11,
   "metadata": {},
   "outputs": [
    {
     "data": {
      "image/png": "[encoded data removed]",
      "text/latex": [
       "$\\displaystyle a e^{- b t}$"
      ],
      "text/plain": [
       "   -b⋅t\n",
       "a⋅ℯ    "
      ]
     },
     "execution_count": 11,
     "metadata": {},
     "output_type": "execute_result"
    }
   ],
   "source": [
    "pendiente_0 = gompertz.rhs.diff(V(t)).subs(V(t), gomp_crit[0])\n",
    "pendiente_0"
   ]
  },
  {
   "cell_type": "markdown",
   "metadata": {},
   "source": [
    "#### Representación gráfica del Modelo de Gompertz\n"
   ]
  },
  {
   "cell_type": "code",
   "execution_count": 20,
   "metadata": {},
   "outputs": [
    {
     "data": {
      "image/png": "[encoded data removed]",
      "text/plain": [
       "<Figure size 432x288 with 1 Axes>"
      ]
     },
     "metadata": {
      "needs_background": "light"
     },
     "output_type": "display_data"
    }
   ],
   "source": [
    "tiempo = np.linspace(0,21,50)\n",
    "\n",
    "\n",
    "\n",
    "solp_l = sp.lambdify(t, edo_gomp_solp.subs({a:5, b:2, V0:1}))\n",
    "plt.plot(tiempo, solp_l(tiempo))\n",
    "plt.xlabel(\"Tiempo\")\n",
    "plt.ylabel(\"Volumen\")\n",
    "plt.savefig('modelo_Gompertz.png')\n",
    "plt.show()"
   ]
  },
  {
   "cell_type": "code",
   "execution_count": null,
   "metadata": {},
   "outputs": [],
   "source": []
  }
 ],
 "metadata": {
  "kernelspec": {
   "display_name": "Python 3",
   "language": "python",
   "name": "python3"
  },
  "language_info": {
   "codemirror_mode": {
    "name": "ipython",
    "version": 3
   },
   "file_extension": ".py",
   "mimetype": "text/x-python",
   "name": "python",
   "nbconvert_exporter": "python",
   "pygments_lexer": "ipython3",
   "version": "3.7.6"
  }
 },
 "nbformat": 4,
 "nbformat_minor": 4
}
