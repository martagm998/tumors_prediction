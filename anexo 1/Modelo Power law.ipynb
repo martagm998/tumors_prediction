{
 "cells": [
  {
   "cell_type": "markdown",
   "metadata": {},
   "source": [
    "#### Desarollo del modelo Power Law"
   ]
  },
  {
   "cell_type": "markdown",
   "metadata": {},
   "source": [
    "El modelo de Power Law (referencia 38) es una aproximacion al analisis del crecimiento tumoral se define por la ecuacion: \n",
    "\n",
    "$\\frac{dV}{dt}=kV^b$\n",
    "\n",
    "donde k es la consntante de crecimiento y b define el modo de crecimiento (lineal, exponencial...)"
   ]
  },
  {
   "cell_type": "code",
   "execution_count": 1,
   "metadata": {},
   "outputs": [],
   "source": [
    "import numpy as np\n",
    "import matplotlib.pyplot as plt\n",
    "import scipy.integrate as scint\n",
    "import sympy as sp"
   ]
  },
  {
   "cell_type": "code",
   "execution_count": 2,
   "metadata": {},
   "outputs": [],
   "source": [
    "#Definicion de las variables\n",
    "k, b, t, V0, C1 = sp.symbols('k, b, t, V0, C1', positive = True)\n",
    "V = sp.Function ('V')"
   ]
  },
  {
   "cell_type": "code",
   "execution_count": 3,
   "metadata": {},
   "outputs": [
    {
     "data": {
      "text/latex": [
       "$\\displaystyle \\frac{d}{d t} V{\\left(t \\right)} = k V^{b}{\\left(t \\right)}$"
      ],
      "text/plain": [
       "Eq(Derivative(V(t), t), k*V(t)**b)"
      ]
     },
     "execution_count": 3,
     "metadata": {},
     "output_type": "execute_result"
    }
   ],
   "source": [
    "#Descripcion del modelo\n",
    "modelo_power = sp.Eq(V(t).diff(), k*V(t)**b)\n",
    "modelo_power"
   ]
  },
  {
   "cell_type": "code",
   "execution_count": 4,
   "metadata": {},
   "outputs": [
    {
     "data": {
      "text/plain": [
       "[Eq(V(t), Piecewise(((-C1*b + C1 - b*k*t + k*t)**(-1/(b - 1)), Ne(b, 1)), (nan, True))),\n",
       " Eq(V(t), Piecewise((C1*exp(k*t), Eq(b, 1)), (nan, True)))]"
      ]
     },
     "execution_count": 4,
     "metadata": {},
     "output_type": "execute_result"
    }
   ],
   "source": [
    "#Busqueda de las soluciones del modelo\n",
    "sol_power = sp.dsolve(modelo_power)\n",
    "sol_power"
   ]
  },
  {
   "cell_type": "markdown",
   "metadata": {},
   "source": [
    "Con ello concluimos: \n",
    "\n",
    "Para $\\gamma$ distinto de 1 vamos a encontrar la ecuacion: \n",
    "\n",
    "$V(t)=(-C1b+C1-kbt+kt)^{\\frac{-1}{b-1}}$\n",
    "\n",
    "Para $\\gamma$ igual a 1 vamos a encontrar la ecuacion:\n",
    "\n",
    "$V(t)=C1e^{kt}$\n",
    "\n",
    "Por tanto, la condición $\\gamma$=1 es un modelo exponencial, por lo que nos quedamos en ela situación $\\gamma$ distinto a 1"
   ]
  },
  {
   "cell_type": "code",
   "execution_count": 5,
   "metadata": {},
   "outputs": [
    {
     "data": {
      "text/latex": [
       "$\\displaystyle V{\\left(t \\right)} = \\left(- C_{1} b + C_{1} - b k t + k t\\right)^{- \\frac{1}{b - 1}}$"
      ],
      "text/plain": [
       "Eq(V(t), (-C1*b + C1 - b*k*t + k*t)**(-1/(b - 1)))"
      ]
     },
     "execution_count": 5,
     "metadata": {},
     "output_type": "execute_result"
    }
   ],
   "source": [
    "#Escribimos la ecuacion correspondiente\n",
    "power_condicion = sp.Eq(V(t), (-C1*b + C1 -k*b*t + k*t)**(-1/(b-1)))\n",
    "power_condicion"
   ]
  },
  {
   "cell_type": "code",
   "execution_count": 6,
   "metadata": {},
   "outputs": [
    {
     "data": {
      "text/latex": [
       "$\\displaystyle V_{0} = \\left(- C_{1} b + C_{1}\\right)^{- \\frac{1}{b - 1}}$"
      ],
      "text/plain": [
       "Eq(V0, (-C1*b + C1)**(-1/(b - 1)))"
      ]
     },
     "execution_count": 6,
     "metadata": {},
     "output_type": "execute_result"
    }
   ],
   "source": [
    "#Resolvemos para t=0\n",
    "power_cero = sp.Eq(V(t).subs(t,0).subs(V(0), V0), power_condicion.rhs.subs(t, 0))\n",
    "power_cero"
   ]
  },
  {
   "cell_type": "code",
   "execution_count": 7,
   "metadata": {},
   "outputs": [
    {
     "data": {
      "text/latex": [
       "$\\displaystyle - \\frac{V_{0}^{1 - b}}{b - 1}$"
      ],
      "text/plain": [
       "-V0**(1 - b)/(b - 1)"
      ]
     },
     "execution_count": 7,
     "metadata": {},
     "output_type": "execute_result"
    }
   ],
   "source": [
    "#Calculamos el valor de la constante C1\n",
    "valor_c1 = sp.solve(power_cero, C1)\n",
    "c1=sp.simplify(valor_c1[0])\n",
    "c1"
   ]
  },
  {
   "cell_type": "code",
   "execution_count": 8,
   "metadata": {},
   "outputs": [
    {
     "data": {
      "text/latex": [
       "$\\displaystyle V{\\left(t \\right)} = \\left(\\frac{V_{0}^{1 - b} b - V_{0}^{1 - b} - k t \\left(b - 1\\right)^{2}}{b - 1}\\right)^{- \\frac{1}{b - 1}}$"
      ],
      "text/plain": [
       "Eq(V(t), ((V0**(1 - b)*b - V0**(1 - b) - k*t*(b - 1)**2)/(b - 1))**(-1/(b - 1)))"
      ]
     },
     "execution_count": 8,
     "metadata": {},
     "output_type": "execute_result"
    }
   ],
   "source": [
    "solucion_power = power_condicion.subs(C1, c1)\n",
    "sp.simplify(solucion_power)"
   ]
  },
  {
   "cell_type": "code",
   "execution_count": 9,
   "metadata": {},
   "outputs": [
    {
     "data": {
      "text/plain": [
       "[0]"
      ]
     },
     "execution_count": 9,
     "metadata": {},
     "output_type": "execute_result"
    }
   ],
   "source": [
    "pt_critico = sp.solve(modelo_power.rhs, V(t))\n",
    "pt_critico"
   ]
  },
  {
   "cell_type": "code",
   "execution_count": 12,
   "metadata": {},
   "outputs": [
    {
     "name": "stderr",
     "output_type": "stream",
     "text": [
      "<lambdifygenerated-6>:2: RuntimeWarning: invalid value encountered in power\n",
      "  return (3.34242995436056*(0.197267429824677 - t)**(-1.66666666666667))\n"
     ]
    },
    {
     "data": {
      "image/png": "[encoded data removed]",
      "text/plain": [
       "<Figure size 432x288 with 1 Axes>"
      ]
     },
     "metadata": {
      "needs_background": "light"
     },
     "output_type": "display_data"
    }
   ],
   "source": [
    "tiempo = np.linspace(0,1,10)\n",
    "\n",
    "sol_exp_power = (((b*V0**(1-b))-(V0**(1-b))-k*t*((b-1)**2))/(b-1))**(-1/(b-1))\n",
    "sol_exp_power1 = sp.lambdify(t, sol_exp_power.subs({b:1.6, k:0.808, V0:50}))\n",
    "\n",
    "plt.plot(tiempo, sol_exp_power1(tiempo))\n",
    "plt.xlabel(\"Tiempo\")\n",
    "plt.ylabel(\"Volumen\")\n",
    "plt.show()"
   ]
  },
  {
   "cell_type": "code",
   "execution_count": 13,
   "metadata": {},
   "outputs": [
    {
     "name": "stderr",
     "output_type": "stream",
     "text": [
      "<lambdifygenerated-8>:2: RuntimeWarning: invalid value encountered in power\n",
      "  return (7.43814388980188*(0.934087354902268 - t)**(-1.66666666666667))\n",
      "<lambdifygenerated-9>:2: RuntimeWarning: invalid value encountered in power\n",
      "  return (7.43814388980188*(0.763327082983394 - t)**(-1.66666666666667))\n",
      "<lambdifygenerated-10>:2: RuntimeWarning: invalid value encountered in power\n",
      "  return (7.43814388980188*(0.656483764236173 - t)**(-1.66666666666667))\n"
     ]
    },
    {
     "data": {
      "image/png": "[encoded data removed]",
      "text/plain": [
       "<Figure size 720x360 with 1 Axes>"
      ]
     },
     "metadata": {
      "needs_background": "light"
     },
     "output_type": "display_data"
    }
   ],
   "source": [
    "t, V0, k, b =sp.symbols('t V0 k b')\n",
    "\n",
    "# Alargamos la figura para que se vean mejor de las curvas\n",
    "plt.figure(figsize =(10,5))\n",
    "\n",
    "sol_exp_power = ((b*V0**(1-b)-(V0**(1-b))-k*t*(b-1)**2)/(b-1))**(-1/(b-1))\n",
    "# Generamos los valores de la variable independiente\n",
    "t1 = np.linspace(0, 1, 3)\n",
    "\n",
    "# Construimos varios bucles para representar las soluciones pedidas\n",
    "# Para representar las soluciones constantes no se puede utilizar lambdify \n",
    "# Primero representamos las soluciones entre 0 y 250 \n",
    "for ini in np.linspace(5, 15, 4):\n",
    "    solp_l = sp.lambdify(t, sol_exp_power.subs({b:1.6, k:0.5, V0:ini}))\n",
    "    plt.plot(t1, solp_l(t1))\n",
    "\n",
    "# Acabamos representando las soluciones constantes\n",
    "for ini in [0, 1]:\n",
    "    plt.plot(t1, ini*np.ones(3))\n",
    "\n",
    "#  Ponemos título a los ejes\n",
    "plt.xlabel('Tiempo')\n",
    "plt.ylabel('Población')\n",
    "\n",
    "# Mostramos la figura\n",
    "plt.show()"
   ]
  },
  {
   "cell_type": "code",
   "execution_count": null,
   "metadata": {},
   "outputs": [],
   "source": []
  }
 ],
 "metadata": {
  "kernelspec": {
   "display_name": "Python 3",
   "language": "python",
   "name": "python3"
  },
  "language_info": {
   "codemirror_mode": {
    "name": "ipython",
    "version": 3
   },
   "file_extension": ".py",
   "mimetype": "text/x-python",
   "name": "python",
   "nbconvert_exporter": "python",
   "pygments_lexer": "ipython3",
   "version": "3.8.5"
  }
 },
 "nbformat": 4,
 "nbformat_minor": 4
}
