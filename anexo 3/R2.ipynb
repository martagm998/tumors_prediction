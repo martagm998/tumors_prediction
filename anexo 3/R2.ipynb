{
 "cells": [
  {
   "cell_type": "markdown",
   "metadata": {},
   "source": [
    "# $R^2$"
   ]
  },
  {
   "cell_type": "markdown",
   "metadata": {},
   "source": [
    "$$\n",
    "R^2 =  1 -\\frac{SSE}{SST}\n",
    "$$"
   ]
  },
  {
   "cell_type": "markdown",
   "metadata": {},
   "source": [
    "\n",
    "Siendo:\n",
    "- SSE la variabilidad explicada por el modelo.\n",
    "$$\n",
    "SSE = \\Sigma(y_i - ŷ_i)^2\n",
    "$$\n",
    "- SST la variabilidad total de $y$.\n",
    "$$\n",
    "SST = \\Sigma(y_i - ȳ)^2\n",
    "$$"
   ]
  },
  {
   "cell_type": "code",
   "execution_count": 1,
   "metadata": {},
   "outputs": [],
   "source": [
    "import sympy as sp\n",
    "import numpy as np\n",
    "import matplotlib.pyplot as plt\n",
    "import scipy as sci\n",
    "import math as m\n",
    "import statistics as stats"
   ]
  },
  {
   "cell_type": "code",
   "execution_count": 2,
   "metadata": {},
   "outputs": [],
   "source": [
    "xPe, yPe = np.loadtxt(\"breast_ajuste.txt\",delimiter=\"\\t\", unpack=True)"
   ]
  },
  {
   "cell_type": "code",
   "execution_count": 3,
   "metadata": {},
   "outputs": [],
   "source": [
    "xPu, yPu = np.loadtxt(\"lung_ajuste.txt\",delimiter=\"\\t\", unpack=True)"
   ]
  },
  {
   "cell_type": "markdown",
   "metadata": {},
   "source": [
    "### Modelo exponencial $V_0 = 1mm^3$"
   ]
  },
  {
   "cell_type": "markdown",
   "metadata": {},
   "source": [
    "#### Pecho"
   ]
  },
  {
   "cell_type": "code",
   "execution_count": 4,
   "metadata": {},
   "outputs": [],
   "source": [
    "def modelo_exponencial1(t):\n",
    "    p=(0.206,1)\n",
    "    return 1*np.exp(p[0]*t)"
   ]
  },
  {
   "cell_type": "code",
   "execution_count": 5,
   "metadata": {},
   "outputs": [
    {
     "data": {
      "text/plain": [
       "0.1101208612662381"
      ]
     },
     "execution_count": 5,
     "metadata": {},
     "output_type": "execute_result"
    }
   ],
   "source": [
    "mediay= stats.mean(yPe)\n",
    "SST=0\n",
    "SSE=0\n",
    "y_subs = list()\n",
    "for i in xPe:\n",
    "    y = modelo_exponencial1(i)\n",
    "    y_subs.append(y)\n",
    "for i in range(len(yPe)):\n",
    "    SST = SST + (yPe[i] - mediay)**2\n",
    "    SSE = SSE + (yPe[i] - y_subs[i])**2\n",
    "\n",
    "R2 = 1- (SSE)/(SST)\n",
    "R2"
   ]
  },
  {
   "cell_type": "markdown",
   "metadata": {},
   "source": [
    "#### Pulmón"
   ]
  },
  {
   "cell_type": "code",
   "execution_count": 6,
   "metadata": {},
   "outputs": [],
   "source": [
    "def modelo_exponencial1(t):\n",
    "    p=(0.327,1)\n",
    "    return 1*np.exp(p[0]*t)"
   ]
  },
  {
   "cell_type": "code",
   "execution_count": 7,
   "metadata": {},
   "outputs": [
    {
     "data": {
      "text/plain": [
       "0.3922788361915607"
      ]
     },
     "execution_count": 7,
     "metadata": {},
     "output_type": "execute_result"
    }
   ],
   "source": [
    "mediay= stats.mean(yPu)\n",
    "SST=0\n",
    "SSE=0\n",
    "y_subs = list()\n",
    "for i in xPu:\n",
    "    y = modelo_exponencial1(i)\n",
    "    y_subs.append(y)\n",
    "for i in range(len(yPu)):\n",
    "    SST = SST + (yPu[i] - mediay)**2\n",
    "    SSE = SSE + (yPu[i] - y_subs[i])**2\n",
    "\n",
    "R2 = 1- (SSE)/(SST)\n",
    "R2  "
   ]
  },
  {
   "cell_type": "markdown",
   "metadata": {},
   "source": [
    "### Modelo exponencial $V_0$"
   ]
  },
  {
   "cell_type": "markdown",
   "metadata": {},
   "source": [
    "#### Pecho"
   ]
  },
  {
   "cell_type": "code",
   "execution_count": 8,
   "metadata": {},
   "outputs": [],
   "source": [
    "def exponencial(t):\n",
    "    p=(106.277,0.076)\n",
    "    return (p[0]*np.exp(p[1]*t))"
   ]
  },
  {
   "cell_type": "code",
   "execution_count": 9,
   "metadata": {},
   "outputs": [
    {
     "data": {
      "text/plain": [
       "0.9459709635740802"
      ]
     },
     "execution_count": 9,
     "metadata": {},
     "output_type": "execute_result"
    }
   ],
   "source": [
    "mediay= stats.mean(yPe)\n",
    "SST=0\n",
    "SSE=0\n",
    "y_subs = list()\n",
    "\n",
    "for i in xPe:\n",
    "    y = exponencial(i)\n",
    "    y_subs.append(y)\n",
    "\n",
    "for i in range(len(yPe)):\n",
    "    SST = SST + (yPe[i] - mediay)**2\n",
    "    SSE = SSE + (yPe[i] - y_subs[i])**2\n",
    "\n",
    "R2 = 1- (SSE)/(SST)\n",
    "R2\n"
   ]
  },
  {
   "cell_type": "markdown",
   "metadata": {},
   "source": [
    "#### Pulmón"
   ]
  },
  {
   "cell_type": "code",
   "execution_count": 10,
   "metadata": {},
   "outputs": [],
   "source": [
    "def exponencial(t):\n",
    "    p=(81.771,0.134)\n",
    "    return (p[0]*np.exp(p[1]*t))"
   ]
  },
  {
   "cell_type": "code",
   "execution_count": 11,
   "metadata": {},
   "outputs": [
    {
     "data": {
      "text/plain": [
       "0.9474941719791999"
      ]
     },
     "execution_count": 11,
     "metadata": {},
     "output_type": "execute_result"
    }
   ],
   "source": [
    "mediay= stats.mean(yPu)\n",
    "SST=0\n",
    "SSE=0\n",
    "y_subs = list()\n",
    "for i in xPu:\n",
    "    y = exponencial(i)\n",
    "    y_subs.append(y)\n",
    "for i in range(len(yPu)):\n",
    "    SST = SST + (yPu[i] - mediay)**2\n",
    "    SSE = SSE + (yPu[i] - y_subs[i])**2\n",
    "\n",
    "R2 = 1- (SSE)/(SST)\n",
    "R2  "
   ]
  },
  {
   "cell_type": "markdown",
   "metadata": {},
   "source": [
    "### Modelo exponencial lineal"
   ]
  },
  {
   "cell_type": "markdown",
   "metadata": {},
   "source": [
    "#### Pecho"
   ]
  },
  {
   "cell_type": "code",
   "execution_count": 12,
   "metadata": {},
   "outputs": [],
   "source": [
    "def modelo_exp(t):\n",
    "    p=(0.22285493,9.48174239)\n",
    "    return 1*np.exp(p[0]*t)\n",
    "def modelo_lineal(t):\n",
    "    p=(0.22285493,9.48174239)\n",
    "    return p[1]*t+978.3614"
   ]
  },
  {
   "cell_type": "code",
   "execution_count": 13,
   "metadata": {},
   "outputs": [
    {
     "data": {
      "text/plain": [
       "0.10768886793868715"
      ]
     },
     "execution_count": 13,
     "metadata": {},
     "output_type": "execute_result"
    }
   ],
   "source": [
    "mediay= stats.mean(yPe)\n",
    "SST=0\n",
    "SSE=0\n",
    "y_subs = list()\n",
    "\n",
    "for i in xPe[1:26]:\n",
    "    y = modelo_exp(i)\n",
    "    y_subs.append(y)\n",
    "\n",
    "for i in xPe[25:]:\n",
    "    y = modelo_lineal(i)\n",
    "    y_subs.append(y)\n",
    "\n",
    "for i in range(len(yPe)):\n",
    "    SST = SST + (yPe[i] - mediay)**2\n",
    "    SSE = SSE + (yPe[i] - y_subs[i])**2\n",
    "\n",
    "R2 = 1- (SSE)/(SST)\n",
    "R2  "
   ]
  },
  {
   "cell_type": "markdown",
   "metadata": {},
   "source": [
    "#### Pulmón"
   ]
  },
  {
   "cell_type": "code",
   "execution_count": 14,
   "metadata": {},
   "outputs": [],
   "source": [
    "def modelo_exp(t):\n",
    "    p=(0.30017147,6.28258484)\n",
    "    return 1*np.exp(p[0]*t)\n",
    "def modelo_lineal(t):\n",
    "    p=(0.30017147,6.28258484)\n",
    "    return p[1]*t+978.3614"
   ]
  },
  {
   "cell_type": "code",
   "execution_count": 15,
   "metadata": {},
   "outputs": [
    {
     "data": {
      "text/plain": [
       "0.2919979304855861"
      ]
     },
     "execution_count": 15,
     "metadata": {},
     "output_type": "execute_result"
    }
   ],
   "source": [
    "mediay= stats.mean(yPu)\n",
    "SST=0\n",
    "SSE=0\n",
    "y_subs = list()\n",
    "\n",
    "for i in xPu[1:18]:\n",
    "    y = modelo_exp(i)\n",
    "    y_subs.append(y)\n",
    "\n",
    "for i in xPu[17:]:\n",
    "    y = modelo_lineal(i)\n",
    "    y_subs.append(y)\n",
    "\n",
    "for i in range(len(yPu)):\n",
    "    SST = SST + (yPu[i] - mediay)**2\n",
    "    SSE = SSE + (yPu[i] - y_subs[i])**2\n",
    "\n",
    "R2 = 1- (SSE)/(SST)\n",
    "R2  "
   ]
  },
  {
   "cell_type": "markdown",
   "metadata": {},
   "source": [
    "### Modelo logístico"
   ]
  },
  {
   "cell_type": "markdown",
   "metadata": {},
   "source": [
    "#### Pecho"
   ]
  },
  {
   "cell_type": "code",
   "execution_count": 16,
   "metadata": {},
   "outputs": [],
   "source": [
    "def modelo_logistico(t):\n",
    "    p = (0.302, 1479.278)\n",
    "    return (p[1]*1*np.exp(p[0]*t))/(p[1]+1*np.exp(p[0]*t)-1)"
   ]
  },
  {
   "cell_type": "code",
   "execution_count": 17,
   "metadata": {},
   "outputs": [
    {
     "data": {
      "text/plain": [
       "0.8944079791378682"
      ]
     },
     "execution_count": 17,
     "metadata": {},
     "output_type": "execute_result"
    }
   ],
   "source": [
    "mediay= stats.mean(yPe)\n",
    "SST=0\n",
    "SSE=0\n",
    "y_subs = list()\n",
    "for i in xPe:\n",
    "    y = modelo_logistico(i)\n",
    "    y_subs.append(y)\n",
    "for i in range(len(yPe)):\n",
    "    SST = SST + (yPe[i] - mediay)**2\n",
    "    SSE = SSE + (yPe[i] - y_subs[i])**2\n",
    "\n",
    "R2 = 1- (SSE)/(SST)\n",
    "R2  "
   ]
  },
  {
   "cell_type": "markdown",
   "metadata": {},
   "source": [
    "#### Pulmón"
   ]
  },
  {
   "cell_type": "code",
   "execution_count": 18,
   "metadata": {},
   "outputs": [],
   "source": [
    "def modelo_logistico(t):\n",
    "    p = (0.462, 1637.694)\n",
    "    return (p[1]*1*np.exp(p[0]*t))/(p[1]+1*np.exp(p[0]*t)-1)"
   ]
  },
  {
   "cell_type": "code",
   "execution_count": 19,
   "metadata": {},
   "outputs": [
    {
     "data": {
      "text/plain": [
       "0.9730201621654139"
      ]
     },
     "execution_count": 19,
     "metadata": {},
     "output_type": "execute_result"
    }
   ],
   "source": [
    "mediay= stats.mean(yPu)\n",
    "SST=0\n",
    "SSE=0\n",
    "y_subs = list()\n",
    "for i in xPu:\n",
    "    y = modelo_logistico(i)\n",
    "    y_subs.append(y)\n",
    "for i in range(len(yPu)):\n",
    "    SST = SST + (yPu[i] - mediay)**2\n",
    "    SSE = SSE + (yPu[i] - y_subs[i])**2\n",
    "\n",
    "R2 = 1- (SSE)/(SST)\n",
    "R2  "
   ]
  },
  {
   "cell_type": "markdown",
   "metadata": {},
   "source": [
    "###  Modelo logístico generalizado"
   ]
  },
  {
   "cell_type": "markdown",
   "metadata": {},
   "source": [
    "#### Pecho"
   ]
  },
  {
   "cell_type": "code",
   "execution_count": 20,
   "metadata": {},
   "outputs": [],
   "source": [
    "def modelo_lgeneralizado(t):\n",
    "    p=(63.622, 0.001, 2585.737)\n",
    "    return((p[2])/((1**p[1]+(p[2]**p[1]-1**p[1])*np.exp(-p[0]*p[1]*t))**(1/p[1])))\n"
   ]
  },
  {
   "cell_type": "code",
   "execution_count": 21,
   "metadata": {},
   "outputs": [
    {
     "data": {
      "text/plain": [
       "0.6980086636420266"
      ]
     },
     "execution_count": 21,
     "metadata": {},
     "output_type": "execute_result"
    }
   ],
   "source": [
    "mediay= stats.mean(yPe)\n",
    "SST=0\n",
    "SSE=0\n",
    "y_subs = list()\n",
    "for i in xPe:\n",
    "    y = modelo_lgeneralizado(i)\n",
    "    y_subs.append(y)\n",
    "for i in range(len(yPe)):\n",
    "    SST = SST + (yPe[i] - mediay)**2\n",
    "    SSE = SSE + (yPe[i] - y_subs[i])**2\n",
    "\n",
    "R2 = 1- (SSE)/(SST)\n",
    "R2  "
   ]
  },
  {
   "cell_type": "markdown",
   "metadata": {},
   "source": [
    "#### Pulmón"
   ]
  },
  {
   "cell_type": "code",
   "execution_count": 22,
   "metadata": {},
   "outputs": [],
   "source": [
    "def modelo_lgeneralizado(t):\n",
    "    p=(1.055, 0.144, 2598.409)\n",
    "    return((p[2])/((1**p[1]+(p[2]**p[1]-1**p[1])*np.exp(-p[0]*p[1]*t))**(1/p[1])))\n"
   ]
  },
  {
   "cell_type": "code",
   "execution_count": 23,
   "metadata": {},
   "outputs": [
    {
     "data": {
      "text/plain": [
       "0.9923836554163532"
      ]
     },
     "execution_count": 23,
     "metadata": {},
     "output_type": "execute_result"
    }
   ],
   "source": [
    "mediay= stats.mean(yPu)\n",
    "SST=0\n",
    "SSE=0\n",
    "y_subs = list()\n",
    "for i in xPu:\n",
    "    y = modelo_lgeneralizado(i)\n",
    "    y_subs.append(y)\n",
    "for i in range(len(yPu)):\n",
    "    SST = SST + (yPu[i] - mediay)**2\n",
    "    SSE = SSE + (yPu[i] - y_subs[i])**2\n",
    "\n",
    "R2 = 1- (SSE)/(SST)\n",
    "R2 "
   ]
  },
  {
   "cell_type": "markdown",
   "metadata": {},
   "source": [
    "### Modelo de Gompertz"
   ]
  },
  {
   "cell_type": "markdown",
   "metadata": {},
   "source": [
    "#### Pecho"
   ]
  },
  {
   "cell_type": "code",
   "execution_count": 24,
   "metadata": {},
   "outputs": [],
   "source": [
    "def modelo_gompertz(t):\n",
    "    p = (0.597, 0.076)\n",
    "    return 1*np.exp((p[0]/p[1])*(1-np.exp(-p[1]*t)))"
   ]
  },
  {
   "cell_type": "code",
   "execution_count": 25,
   "metadata": {},
   "outputs": [
    {
     "data": {
      "text/plain": [
       "0.9665252153583082"
      ]
     },
     "execution_count": 25,
     "metadata": {},
     "output_type": "execute_result"
    }
   ],
   "source": [
    "mediay= stats.mean(yPe)\n",
    "SST=0\n",
    "SSE=0\n",
    "y_subs = list()\n",
    "for i in xPe:\n",
    "    y = modelo_gompertz(i)\n",
    "    y_subs.append(y)\n",
    "for i in range(len(yPe)):\n",
    "    SST = SST + (yPe[i] - mediay)**2\n",
    "    SSE = SSE + (yPe[i] - y_subs[i])**2\n",
    "\n",
    "R2 = 1- (SSE)/(SST)\n",
    "R2 "
   ]
  },
  {
   "cell_type": "markdown",
   "metadata": {},
   "source": [
    "#### Pulmón"
   ]
  },
  {
   "cell_type": "code",
   "execution_count": 26,
   "metadata": {},
   "outputs": [],
   "source": [
    "def modelo_gompertz(t):\n",
    "    p = (0.874, 0.108)\n",
    "    return 1*np.exp((p[0]/p[1])*(1-np.exp(-p[1]*t)))"
   ]
  },
  {
   "cell_type": "code",
   "execution_count": 27,
   "metadata": {},
   "outputs": [
    {
     "data": {
      "text/plain": [
       "0.9903736348309232"
      ]
     },
     "execution_count": 27,
     "metadata": {},
     "output_type": "execute_result"
    }
   ],
   "source": [
    "mediay= stats.mean(yPu)\n",
    "SST=0\n",
    "SSE=0\n",
    "y_subs = list()\n",
    "for i in xPu:\n",
    "    y = modelo_gompertz(i)\n",
    "    y_subs.append(y)\n",
    "for i in range(len(yPu)):\n",
    "    SST = SST + (yPu[i] - mediay)**2\n",
    "    SSE = SSE + (yPu[i] - y_subs[i])**2\n",
    "\n",
    "R2 = 1- (SSE)/(SST)\n",
    "R2 "
   ]
  },
  {
   "cell_type": "markdown",
   "metadata": {},
   "source": [
    "### Modelo de Von Bertalanffy"
   ]
  },
  {
   "cell_type": "markdown",
   "metadata": {},
   "source": [
    "#### Pecho"
   ]
  },
  {
   "cell_type": "code",
   "execution_count": 28,
   "metadata": {},
   "outputs": [],
   "source": [
    "def modelo_Bertalanffy(t):\n",
    "    p=(1.216, 0.088, 0.705)\n",
    "    return (p[0]/p[1]+(1**(1-p[2])-(p[0]/p[1]))*np.exp(-p[1]*(1-p[2])*t))**(1/(1-p[2]))"
   ]
  },
  {
   "cell_type": "code",
   "execution_count": 29,
   "metadata": {},
   "outputs": [
    {
     "data": {
      "text/plain": [
       "0.97152991251171"
      ]
     },
     "execution_count": 29,
     "metadata": {},
     "output_type": "execute_result"
    }
   ],
   "source": [
    "mediay= stats.mean(yPe)\n",
    "SST=0\n",
    "SSE=0\n",
    "y_subs = list()\n",
    "for i in xPe:\n",
    "    y = modelo_Bertalanffy(i)\n",
    "    y_subs.append(y)\n",
    "for i in range(len(yPe)):\n",
    "    SST = SST + (yPe[i] - mediay)**2\n",
    "    SSE = SSE + (yPe[i] - y_subs[i])**2\n",
    "\n",
    "R2 = 1- (SSE)/(SST)\n",
    "R2  "
   ]
  },
  {
   "cell_type": "markdown",
   "metadata": {},
   "source": [
    "#### Pulmon"
   ]
  },
  {
   "cell_type": "code",
   "execution_count": 30,
   "metadata": {},
   "outputs": [],
   "source": [
    "def modelo_Bertalanffy(t):\n",
    "    p=(21.081, 20.199, 0.995)\n",
    "    return (p[0]/p[1]+(1**(1-p[2])-(p[0]/p[1]))*np.exp(-p[1]*(1-p[2])*t))**(1/(1-p[2]))"
   ]
  },
  {
   "cell_type": "code",
   "execution_count": 31,
   "metadata": {},
   "outputs": [
    {
     "data": {
      "text/plain": [
       "0.7935315482888439"
      ]
     },
     "execution_count": 31,
     "metadata": {},
     "output_type": "execute_result"
    }
   ],
   "source": [
    "mediay= stats.mean(yPu)\n",
    "SST=0\n",
    "SSE=0\n",
    "y_subs = list()\n",
    "for i in xPu:\n",
    "    y = modelo_Bertalanffy(i)\n",
    "    y_subs.append(y)\n",
    "for i in range(len(yPu)):\n",
    "    SST = SST + (yPu[i] - mediay)**2\n",
    "    SSE = SSE + (yPu[i] - y_subs[i])**2\n",
    "\n",
    "R2 = 1- (SSE)/(SST)\n",
    "R2"
   ]
  },
  {
   "cell_type": "markdown",
   "metadata": {},
   "source": [
    "### Modelo Power Law"
   ]
  },
  {
   "cell_type": "markdown",
   "metadata": {},
   "source": [
    "#### Pecho"
   ]
  },
  {
   "cell_type": "code",
   "execution_count": 32,
   "metadata": {},
   "outputs": [],
   "source": [
    "def modelo_Power_law(t):\n",
    "    p=(0.526, 1.884)\n",
    "    return ((p[0]*(1**(1-p[0]))-(1**(1-p[0]))-p[1]*t*(p[0]-1)**2)/(p[0]-1))**(-1/(p[0]-1))"
   ]
  },
  {
   "cell_type": "code",
   "execution_count": 33,
   "metadata": {},
   "outputs": [
    {
     "data": {
      "text/plain": [
       "0.9703475474442905"
      ]
     },
     "execution_count": 33,
     "metadata": {},
     "output_type": "execute_result"
    }
   ],
   "source": [
    "mediay= stats.mean(yPe)\n",
    "SST=0\n",
    "SSE=0\n",
    "y_subs = list()\n",
    "for i in xPe:\n",
    "    y = modelo_Power_law(i)\n",
    "    y_subs.append(y)\n",
    "for i in range(len(yPe)):\n",
    "    SST = SST + (yPe[i] - mediay)**2\n",
    "    SSE = SSE + (yPe[i] - y_subs[i])**2\n",
    "R2 = 1- (SSE)/(SST)\n",
    "R2"
   ]
  },
  {
   "cell_type": "markdown",
   "metadata": {},
   "source": [
    "#### Pulmon"
   ]
  },
  {
   "cell_type": "code",
   "execution_count": 34,
   "metadata": {},
   "outputs": [],
   "source": [
    "def modelo_Power_law(t):\n",
    "    p=(0.591, 2.143)\n",
    "    return ((p[0]*(1**(1-p[0]))-(1**(1-p[0]))-p[1]*t*(p[0]-1)**2)/(p[0]-1))**(-1/(p[0]-1))"
   ]
  },
  {
   "cell_type": "code",
   "execution_count": 35,
   "metadata": {},
   "outputs": [
    {
     "data": {
      "text/plain": [
       "0.9813852351232729"
      ]
     },
     "execution_count": 35,
     "metadata": {},
     "output_type": "execute_result"
    }
   ],
   "source": [
    "mediay= stats.mean(yPu)\n",
    "SST=0\n",
    "SSE=0\n",
    "y_subs = list()\n",
    "for i in xPu:\n",
    "    y = modelo_Power_law(i)\n",
    "    y_subs.append(y)\n",
    "for i in range(len(yPu)):\n",
    "    SST = SST + (yPu[i] - mediay)**2\n",
    "    SSE = SSE + (yPu[i] - y_subs[i])**2\n",
    "\n",
    "R2 = 1- (SSE)/(SST)\n",
    "R2"
   ]
  }
 ],
 "metadata": {
  "kernelspec": {
   "display_name": "Python 3",
   "language": "python",
   "name": "python3"
  },
  "language_info": {
   "codemirror_mode": {
    "name": "ipython",
    "version": 3
   },
   "file_extension": ".py",
   "mimetype": "text/x-python",
   "name": "python",
   "nbconvert_exporter": "python",
   "pygments_lexer": "ipython3",
   "version": "3.8.8"
  }
 },
 "nbformat": 4,
 "nbformat_minor": 4
}
