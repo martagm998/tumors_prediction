{
 "cells": [
  {
   "cell_type": "markdown",
   "metadata": {},
   "source": [
    "# RMSE (root mean squared error) "
   ]
  },
  {
   "cell_type": "markdown",
   "metadata": {},
   "source": [
    "$$\n",
    "RMSE =  \\sqrt[2]{\\frac{1}{(I^j)-P}\\aleph^2(\\hat{\\beta}^j)}\n",
    "$$"
   ]
  },
  {
   "cell_type": "code",
   "execution_count": 1,
   "metadata": {},
   "outputs": [],
   "source": [
    "import sympy as sp\n",
    "import numpy as np\n",
    "import matplotlib.pyplot as plt\n",
    "import scipy as sci\n",
    "import math as m\n",
    "import statistics as stats\n",
    "import sklearn.metrics"
   ]
  },
  {
   "cell_type": "code",
   "execution_count": 2,
   "metadata": {},
   "outputs": [],
   "source": [
    "xPe, yPe = np.loadtxt(\"breast_ajuste.txt\",delimiter=\"\\t\", unpack=True)"
   ]
  },
  {
   "cell_type": "code",
   "execution_count": 3,
   "metadata": {},
   "outputs": [],
   "source": [
    "xPu, yPu = np.loadtxt(\"lung_ajuste.txt\",delimiter=\"\\t\", unpack=True)"
   ]
  },
  {
   "cell_type": "markdown",
   "metadata": {},
   "source": [
    "### Modelo exponencial $V_0 = 1 mm^3$"
   ]
  },
  {
   "cell_type": "markdown",
   "metadata": {},
   "source": [
    "#### Pecho"
   ]
  },
  {
   "cell_type": "code",
   "execution_count": 4,
   "metadata": {},
   "outputs": [],
   "source": [
    "def modelo_exponencial1(t):\n",
    "    p=(0.206,1)\n",
    "    return 1*np.exp(p[0]*t)"
   ]
  },
  {
   "cell_type": "code",
   "execution_count": 5,
   "metadata": {},
   "outputs": [
    {
     "data": {
      "text/plain": [
       "461.18684743043764"
      ]
     },
     "execution_count": 5,
     "metadata": {},
     "output_type": "execute_result"
    }
   ],
   "source": [
    "SSE=0\n",
    "y_subs = list()\n",
    "for i in xPe:\n",
    "    y = modelo_exponencial1(i)\n",
    "    y_subs.append(y)\n",
    "    n=len(xPe)\n",
    "for i in range(len(yPe)):\n",
    "    SSE = SSE + (yPe[i] - y_subs[i])**2\n",
    "\n",
    "RMSE = ((SSE)/n)**0.5\n",
    "RMSE"
   ]
  },
  {
   "cell_type": "markdown",
   "metadata": {},
   "source": [
    "#### Pulmón"
   ]
  },
  {
   "cell_type": "code",
   "execution_count": 6,
   "metadata": {},
   "outputs": [],
   "source": [
    "def modelo_exponencial1(t):\n",
    "    p=(0.327,1)\n",
    "    return 1*np.exp(p[0]*t)"
   ]
  },
  {
   "cell_type": "code",
   "execution_count": 7,
   "metadata": {},
   "outputs": [
    {
     "data": {
      "text/plain": [
       "442.4626614361621"
      ]
     },
     "execution_count": 7,
     "metadata": {},
     "output_type": "execute_result"
    }
   ],
   "source": [
    "SSE=0\n",
    "y_subs = list()\n",
    "for i in xPu:\n",
    "    y = modelo_exponencial1(i)\n",
    "    y_subs.append(y)\n",
    "    n=len(xPu)\n",
    "for i in range(len(yPu)):\n",
    "    SSE = SSE + (yPu[i] - y_subs[i])**2\n",
    "\n",
    "RMSE = ((SSE)/n)**0.5\n",
    "RMSE"
   ]
  },
  {
   "cell_type": "markdown",
   "metadata": {},
   "source": [
    "### Modelo exponencial $V_0$"
   ]
  },
  {
   "cell_type": "markdown",
   "metadata": {},
   "source": [
    "#### Pecho"
   ]
  },
  {
   "cell_type": "code",
   "execution_count": 8,
   "metadata": {},
   "outputs": [],
   "source": [
    "def modelo_exponencial(t):\n",
    "    p=(106.277,0.076)\n",
    "    return p[0]*np.exp(p[1]*t)"
   ]
  },
  {
   "cell_type": "code",
   "execution_count": 9,
   "metadata": {
    "scrolled": true
   },
   "outputs": [
    {
     "data": {
      "text/plain": [
       "113.63837410852602"
      ]
     },
     "execution_count": 9,
     "metadata": {},
     "output_type": "execute_result"
    }
   ],
   "source": [
    "SSE=0\n",
    "y_subs = list()\n",
    "for i in xPe:\n",
    "    y = modelo_exponencial(i)\n",
    "    y_subs.append(y)\n",
    "    n=len(xPe)\n",
    "for i in range(len(yPe)):\n",
    "    SSE = SSE + (yPe[i] - y_subs[i])**2\n",
    "\n",
    "RMSE = ((SSE)/n)**0.5\n",
    "RMSE "
   ]
  },
  {
   "cell_type": "markdown",
   "metadata": {},
   "source": [
    "#### Pulmón"
   ]
  },
  {
   "cell_type": "code",
   "execution_count": 10,
   "metadata": {},
   "outputs": [],
   "source": [
    "def modelo_exponencial(t):\n",
    "    p=(81.771,0.134)\n",
    "    return p[0]*np.exp(p[1]*t)"
   ]
  },
  {
   "cell_type": "code",
   "execution_count": 11,
   "metadata": {},
   "outputs": [
    {
     "data": {
      "text/plain": [
       "130.0553441801809"
      ]
     },
     "execution_count": 11,
     "metadata": {},
     "output_type": "execute_result"
    }
   ],
   "source": [
    "SSE=0\n",
    "y_subs = list()\n",
    "for i in xPu:\n",
    "    y = modelo_exponencial(i)\n",
    "    y_subs.append(y)\n",
    "    n=len(xPu)\n",
    "for i in range(len(yPu)):\n",
    "    SSE = SSE + (yPu[i] - y_subs[i])**2\n",
    "\n",
    "RMSE = ((SSE)/n)**0.5\n",
    "RMSE"
   ]
  },
  {
   "cell_type": "markdown",
   "metadata": {},
   "source": [
    "### Modelo exponencial-lineal"
   ]
  },
  {
   "cell_type": "markdown",
   "metadata": {},
   "source": [
    "#### Pecho"
   ]
  },
  {
   "cell_type": "code",
   "execution_count": 12,
   "metadata": {},
   "outputs": [],
   "source": [
    "def modelo_exp(t):\n",
    "    p=(0.22285493,9.48174239)\n",
    "    return 1*np.exp(p[0]*t)\n",
    "def modelo_lineal(t):\n",
    "    p=(0.22285493,9.48174239)\n",
    "    return p[1]*t+978.3614"
   ]
  },
  {
   "cell_type": "code",
   "execution_count": 13,
   "metadata": {},
   "outputs": [
    {
     "data": {
      "text/plain": [
       "461.8166172561472"
      ]
     },
     "execution_count": 13,
     "metadata": {},
     "output_type": "execute_result"
    }
   ],
   "source": [
    "SSE=0\n",
    "\n",
    "y_subs=list()\n",
    "for i in xPe[1:26]:\n",
    "    y = modelo_exp(i)\n",
    "    y_subs.append(y)\n",
    "\n",
    "for i in xPe[25:]:\n",
    "    y = modelo_lineal(i)\n",
    "    y_subs.append(y)\n",
    "\n",
    "n=len(xPe)\n",
    "    \n",
    "for i in range(len(yPe)):\n",
    "    SSE = SSE + (yPe[i] - y_subs[i])**2\n",
    "\n",
    "RMSE = ((SSE)/n)**0.5\n",
    "RMSE "
   ]
  },
  {
   "cell_type": "markdown",
   "metadata": {},
   "source": [
    "#### Pulmón"
   ]
  },
  {
   "cell_type": "code",
   "execution_count": 14,
   "metadata": {},
   "outputs": [],
   "source": [
    "def modelo_exp(t):\n",
    "    p=(0.30017147,6.28258484)\n",
    "    return 1*np.exp(p[0]*t)\n",
    "def modelo_lineal(t):\n",
    "    p=(0.30017147,6.28258484)\n",
    "    return p[1]*t+978.3614"
   ]
  },
  {
   "cell_type": "code",
   "execution_count": 15,
   "metadata": {},
   "outputs": [
    {
     "data": {
      "text/plain": [
       "477.5751386695735"
      ]
     },
     "execution_count": 15,
     "metadata": {},
     "output_type": "execute_result"
    }
   ],
   "source": [
    "SSE=0\n",
    "\n",
    "y_subs=list()\n",
    "for i in xPu[1:18]:\n",
    "    y = modelo_exp(i)\n",
    "    y_subs.append(y)\n",
    "\n",
    "for i in xPu[17:]:\n",
    "    y = modelo_lineal(i)\n",
    "    y_subs.append(y)\n",
    "\n",
    "n = len(xPu)    \n",
    "for i in range(len(yPu)):\n",
    "    SSE = SSE + (yPu[i] - y_subs[i])**2\n",
    "\n",
    "RMSE = ((SSE)/n)**0.5\n",
    "RMSE "
   ]
  },
  {
   "cell_type": "markdown",
   "metadata": {},
   "source": [
    "### Modelo logístico"
   ]
  },
  {
   "cell_type": "markdown",
   "metadata": {},
   "source": [
    "#### Pecho"
   ]
  },
  {
   "cell_type": "code",
   "execution_count": 16,
   "metadata": {},
   "outputs": [],
   "source": [
    "def modelo_logistico(t):\n",
    "    p = (0.302, 1479.278)\n",
    "    return (p[1]*1*np.exp(p[0]*t))/(p[1]+1*np.exp(p[0]*t)-1)"
   ]
  },
  {
   "cell_type": "code",
   "execution_count": 17,
   "metadata": {},
   "outputs": [
    {
     "data": {
      "text/plain": [
       "158.8645332414053"
      ]
     },
     "execution_count": 17,
     "metadata": {},
     "output_type": "execute_result"
    }
   ],
   "source": [
    "SSE=0\n",
    "y_subs = list()\n",
    "for i in xPe:\n",
    "    y = modelo_logistico(i)\n",
    "    y_subs.append(y)\n",
    "    n=len(xPe)\n",
    "for i in range(len(yPe)):\n",
    "    SSE = SSE + (yPe[i] - y_subs[i])**2\n",
    "\n",
    "RMSE = ((SSE)/n)**0.5\n",
    "RMSE"
   ]
  },
  {
   "cell_type": "markdown",
   "metadata": {},
   "source": [
    "#### Pulmón"
   ]
  },
  {
   "cell_type": "code",
   "execution_count": 18,
   "metadata": {},
   "outputs": [],
   "source": [
    "def modelo_logistico(t):\n",
    "    p = (0.462, 1637.694)\n",
    "    return (p[1]*1*np.exp(p[0]*t))/(p[1]+1*np.exp(p[0]*t)-1)"
   ]
  },
  {
   "cell_type": "code",
   "execution_count": 19,
   "metadata": {},
   "outputs": [
    {
     "data": {
      "text/plain": [
       "93.22751633257052"
      ]
     },
     "execution_count": 19,
     "metadata": {},
     "output_type": "execute_result"
    }
   ],
   "source": [
    "SSE=0\n",
    "y_subs = list()\n",
    "for i in xPu:\n",
    "    y = modelo_logistico(i)\n",
    "    y_subs.append(y)\n",
    "    n=len(xPu)\n",
    "for i in range(len(yPu)):\n",
    "    SSE = SSE + (yPu[i] - y_subs[i])**2\n",
    "\n",
    "RMSE = ((SSE)/n)**0.5\n",
    "RMSE"
   ]
  },
  {
   "cell_type": "markdown",
   "metadata": {},
   "source": [
    "###  Modelo logístico generalizado"
   ]
  },
  {
   "cell_type": "markdown",
   "metadata": {},
   "source": [
    "#### Pecho"
   ]
  },
  {
   "cell_type": "code",
   "execution_count": 20,
   "metadata": {},
   "outputs": [],
   "source": [
    "def modelo_lgeneralizado(t):\n",
    "    p=(63.622, 0.001, 2585.737)\n",
    "    return((p[2])/((1**p[1]+(p[2]**p[1]-1**p[1])*np.exp(-p[0]*p[1]*t))**(1/p[1])))\n"
   ]
  },
  {
   "cell_type": "code",
   "execution_count": 21,
   "metadata": {},
   "outputs": [
    {
     "data": {
      "text/plain": [
       "268.66348393695483"
      ]
     },
     "execution_count": 21,
     "metadata": {},
     "output_type": "execute_result"
    }
   ],
   "source": [
    "SSE=0\n",
    "y_subs = list()\n",
    "for i in xPe:\n",
    "    y = modelo_lgeneralizado(i)\n",
    "    y_subs.append(y)\n",
    "    n=len(xPe)\n",
    "for i in range(len(yPe)):\n",
    "    SSE = SSE + (yPe[i] - y_subs[i])**2\n",
    "\n",
    "RMSE = ((SSE)/n)**0.5\n",
    "RMSE"
   ]
  },
  {
   "cell_type": "markdown",
   "metadata": {},
   "source": [
    "#### Pulmón"
   ]
  },
  {
   "cell_type": "code",
   "execution_count": 22,
   "metadata": {},
   "outputs": [],
   "source": [
    "def modelo_lgeneralizado(t):\n",
    "    p=(1.055, 0.144, 2598.409)\n",
    "    return((p[2])/((1**p[1]+(p[2]**p[1]-1**p[1])*np.exp(-p[0]*p[1]*t))**(1/p[1])))\n"
   ]
  },
  {
   "cell_type": "code",
   "execution_count": 23,
   "metadata": {},
   "outputs": [
    {
     "data": {
      "text/plain": [
       "49.53335436585169"
      ]
     },
     "execution_count": 23,
     "metadata": {},
     "output_type": "execute_result"
    }
   ],
   "source": [
    "SSE=0\n",
    "y_subs = list()\n",
    "for i in xPu:\n",
    "    y = modelo_lgeneralizado(i)\n",
    "    y_subs.append(y)\n",
    "    n=len(xPu)\n",
    "for i in range(len(yPu)):\n",
    "    SSE = SSE + (yPu[i] - y_subs[i])**2\n",
    "\n",
    "RMSE = ((SSE)/n)**0.5\n",
    "RMSE"
   ]
  },
  {
   "cell_type": "markdown",
   "metadata": {},
   "source": [
    "### Modelo de Gompertz"
   ]
  },
  {
   "cell_type": "markdown",
   "metadata": {},
   "source": [
    "#### Pecho"
   ]
  },
  {
   "cell_type": "code",
   "execution_count": 24,
   "metadata": {},
   "outputs": [],
   "source": [
    "def modelo_gompertz(t):\n",
    "    p = (0.597, 0.076)\n",
    "    return 1*np.exp((p[0]/p[1])*(1-np.exp(-p[1]*t)))"
   ]
  },
  {
   "cell_type": "code",
   "execution_count": 25,
   "metadata": {},
   "outputs": [
    {
     "data": {
      "text/plain": [
       "89.44793031161986"
      ]
     },
     "execution_count": 25,
     "metadata": {},
     "output_type": "execute_result"
    }
   ],
   "source": [
    "SSE=0\n",
    "y_subs = list()\n",
    "for i in xPe:\n",
    "    y = modelo_gompertz(i)\n",
    "    y_subs.append(y)\n",
    "    n=len(xPe)\n",
    "for i in range(len(yPe)):\n",
    "    SSE = SSE + (yPe[i] - y_subs[i])**2\n",
    "\n",
    "RMSE = ((SSE)/n)**0.5\n",
    "RMSE"
   ]
  },
  {
   "cell_type": "markdown",
   "metadata": {},
   "source": [
    "#### Pulmón"
   ]
  },
  {
   "cell_type": "code",
   "execution_count": 26,
   "metadata": {},
   "outputs": [],
   "source": [
    "def modelo_gompertz(t):\n",
    "    p = (0.874, 0.108)\n",
    "    return 1*np.exp((p[0]/p[1])*(1-np.exp(-p[1]*t)))"
   ]
  },
  {
   "cell_type": "code",
   "execution_count": 27,
   "metadata": {},
   "outputs": [
    {
     "data": {
      "text/plain": [
       "55.687229657139056"
      ]
     },
     "execution_count": 27,
     "metadata": {},
     "output_type": "execute_result"
    }
   ],
   "source": [
    "SSE=0\n",
    "y_subs = list()\n",
    "for i in xPu:\n",
    "    y = modelo_gompertz(i)\n",
    "    y_subs.append(y)\n",
    "    n=len(xPu)\n",
    "for i in range(len(yPu)):\n",
    "    SSE = SSE + (yPu[i] - y_subs[i])**2\n",
    "\n",
    "RMSE = ((SSE)/n)**0.5\n",
    "RMSE"
   ]
  },
  {
   "cell_type": "markdown",
   "metadata": {},
   "source": [
    "### Modelo de Von Bertalanffy"
   ]
  },
  {
   "cell_type": "markdown",
   "metadata": {},
   "source": [
    "#### Pecho"
   ]
  },
  {
   "cell_type": "code",
   "execution_count": 28,
   "metadata": {},
   "outputs": [],
   "source": [
    "def modelo_Bertalanffy(t):\n",
    "    p=(1.216, 0.088, 0.705)\n",
    "    return (p[0]/p[1]+(1**(1-p[2])-(p[0]/p[1]))*np.exp(-p[1]*(1-p[2])*t))**(1/(1-p[2]))"
   ]
  },
  {
   "cell_type": "code",
   "execution_count": 29,
   "metadata": {},
   "outputs": [
    {
     "data": {
      "text/plain": [
       "82.49085426640634"
      ]
     },
     "execution_count": 29,
     "metadata": {},
     "output_type": "execute_result"
    }
   ],
   "source": [
    "SSE=0\n",
    "y_subs = list()\n",
    "for i in xPe:\n",
    "    y = modelo_Bertalanffy(i)\n",
    "    y_subs.append(y)\n",
    "    n=len(xPe)\n",
    "for i in range(len(yPe)):\n",
    "    SSE = SSE + (yPe[i] - y_subs[i])**2\n",
    "\n",
    "RMSE = ((SSE)/n)**0.5\n",
    "RMSE "
   ]
  },
  {
   "cell_type": "markdown",
   "metadata": {},
   "source": [
    "#### Pulmon"
   ]
  },
  {
   "cell_type": "code",
   "execution_count": 30,
   "metadata": {},
   "outputs": [],
   "source": [
    "def modelo_Bertalanffy(t):\n",
    "    p=(21.081, 20.199, 0.995)\n",
    "    return (p[0]/p[1]+(1**(1-p[2])-(p[0]/p[1]))*np.exp(-p[1]*(1-p[2])*t))**(1/(1-p[2]))"
   ]
  },
  {
   "cell_type": "code",
   "execution_count": 31,
   "metadata": {},
   "outputs": [
    {
     "data": {
      "text/plain": [
       "257.89997343998266"
      ]
     },
     "execution_count": 31,
     "metadata": {},
     "output_type": "execute_result"
    }
   ],
   "source": [
    "SSE=0\n",
    "y_subs = list()\n",
    "for i in xPu:\n",
    "    y = modelo_Bertalanffy(i)\n",
    "    y_subs.append(y)\n",
    "    n=len(xPu)\n",
    "for i in range(len(yPu)):\n",
    "    SSE = SSE + (yPu[i] - y_subs[i])**2\n",
    "\n",
    "RMSE = ((SSE)/n)**0.5\n",
    "RMSE\n"
   ]
  },
  {
   "cell_type": "markdown",
   "metadata": {},
   "source": [
    "### Modelo Power Law"
   ]
  },
  {
   "cell_type": "markdown",
   "metadata": {},
   "source": [
    "#### Pecho"
   ]
  },
  {
   "cell_type": "code",
   "execution_count": 32,
   "metadata": {},
   "outputs": [],
   "source": [
    "def modelo_Power_law(t):\n",
    "    p=(0.526, 1.884)\n",
    "    return ((p[0]*(1**(1-p[0]))-(1**(1-p[0]))-p[1]*t*(p[0]-1)**2)/(p[0]-1))**(-1/(p[0]-1))"
   ]
  },
  {
   "cell_type": "code",
   "execution_count": 33,
   "metadata": {},
   "outputs": [
    {
     "data": {
      "text/plain": [
       "84.18635572798246"
      ]
     },
     "execution_count": 33,
     "metadata": {},
     "output_type": "execute_result"
    }
   ],
   "source": [
    "SSE=0\n",
    "y_subs = list()\n",
    "for i in xPe:\n",
    "    y = modelo_Power_law(i)\n",
    "    y_subs.append(y)\n",
    "    n=len(xPe)\n",
    "for i in range(len(yPe)):\n",
    "    SSE = SSE + (yPe[i] - y_subs[i])**2\n",
    "\n",
    "RMSE = ((SSE)/n)**0.5\n",
    "RMSE"
   ]
  },
  {
   "cell_type": "markdown",
   "metadata": {},
   "source": [
    "#### Pulmon"
   ]
  },
  {
   "cell_type": "code",
   "execution_count": 34,
   "metadata": {},
   "outputs": [],
   "source": [
    "def modelo_Power_law(t):\n",
    "    p=(0.591, 2.143)\n",
    "    return ((p[0]*(1**(1-p[0]))-(1**(1-p[0]))-p[1]*t*(p[0]-1)**2)/(p[0]-1))**(-1/(p[0]-1))"
   ]
  },
  {
   "cell_type": "code",
   "execution_count": 35,
   "metadata": {},
   "outputs": [
    {
     "data": {
      "text/plain": [
       "77.43783890235461"
      ]
     },
     "execution_count": 35,
     "metadata": {},
     "output_type": "execute_result"
    }
   ],
   "source": [
    "SSE=0\n",
    "y_subs = list()\n",
    "for i in xPu:\n",
    "    y = modelo_Power_law(i)\n",
    "    y_subs.append(y)\n",
    "    n=len(xPu)\n",
    "for i in range(len(yPu)):\n",
    "    SSE = SSE + (yPu[i] - y_subs[i])**2\n",
    "\n",
    "RMSE = ((SSE)/n)**0.5\n",
    "RMSE"
   ]
  }
 ],
 "metadata": {
  "kernelspec": {
   "display_name": "Python 3",
   "language": "python",
   "name": "python3"
  },
  "language_info": {
   "codemirror_mode": {
    "name": "ipython",
    "version": 3
   },
   "file_extension": ".py",
   "mimetype": "text/x-python",
   "name": "python",
   "nbconvert_exporter": "python",
   "pygments_lexer": "ipython3",
   "version": "3.8.8"
  }
 },
 "nbformat": 4,
 "nbformat_minor": 4
}
