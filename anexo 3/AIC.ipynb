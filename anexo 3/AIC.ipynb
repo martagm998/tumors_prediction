{
 "cells": [
  {
   "cell_type": "markdown",
   "metadata": {},
   "source": [
    "# AIC"
   ]
  },
  {
   "cell_type": "markdown",
   "metadata": {},
   "source": [
    "$$\n",
    "AIC^j = I^j log(\\frac{\\chi^2 (\\beta^j)}{I^j})+2K\n",
    "$$\n",
    "\n",
    "$$\n",
    "AIC_C^j = AIC^j + \\frac{2K(K+1)}{I^j -K-1}\n",
    "$$"
   ]
  },
  {
   "cell_type": "code",
   "execution_count": 1,
   "metadata": {},
   "outputs": [],
   "source": [
    "import sympy as sp\n",
    "import numpy as np\n",
    "import matplotlib.pyplot as plt\n",
    "import scipy as sci\n",
    "import math as m"
   ]
  },
  {
   "cell_type": "code",
   "execution_count": 2,
   "metadata": {},
   "outputs": [],
   "source": [
    "xPe, yPe = np.loadtxt(\"breast_ajuste.txt\",delimiter=\"\\t\", unpack=True)"
   ]
  },
  {
   "cell_type": "code",
   "execution_count": 3,
   "metadata": {},
   "outputs": [],
   "source": [
    "xPu, yPu = np.loadtxt(\"lung_ajuste.txt\",delimiter=\"\\t\", unpack=True)"
   ]
  },
  {
   "cell_type": "markdown",
   "metadata": {},
   "source": [
    "### Modelo exponencial $V_0 = 1mm^3$"
   ]
  },
  {
   "cell_type": "markdown",
   "metadata": {},
   "source": [
    "#### Pecho"
   ]
  },
  {
   "cell_type": "code",
   "execution_count": 4,
   "metadata": {},
   "outputs": [],
   "source": [
    "def modelo_exponencial1(t):\n",
    "    p=(0.206,1)\n",
    "    return 1*np.exp(p[0]*t)"
   ]
  },
  {
   "cell_type": "code",
   "execution_count": 5,
   "metadata": {},
   "outputs": [],
   "source": [
    "SSE_E1=0\n",
    "y_subs = list()\n",
    "for i in xPe:\n",
    "    y = modelo_exponencial1(i)\n",
    "    y_subs.append(y)\n",
    "    n=len(xPe)\n",
    "for i in range(len(yPe)):\n",
    "    SSE_E1 = SSE_E1 + (yPe[i] - y_subs[i])**2"
   ]
  },
  {
   "cell_type": "code",
   "execution_count": 6,
   "metadata": {},
   "outputs": [
    {
     "data": {
      "text/latex": [
       "$\\displaystyle 39.2676065396818$"
      ],
      "text/plain": [
       "39.2676065396818"
      ]
     },
     "execution_count": 6,
     "metadata": {},
     "output_type": "execute_result"
    }
   ],
   "source": [
    "n = len(xPe)\n",
    "AIC = n+sp.log(SSE_E1/n)\n",
    "AIC"
   ]
  },
  {
   "cell_type": "code",
   "execution_count": 7,
   "metadata": {
    "scrolled": true
   },
   "outputs": [
    {
     "data": {
      "text/latex": [
       "$\\displaystyle 43.5876065396818$"
      ],
      "text/plain": [
       "43.5876065396818"
      ]
     },
     "execution_count": 7,
     "metadata": {},
     "output_type": "execute_result"
    }
   ],
   "source": [
    "K = 1\n",
    "AIC_C = AIC + (2*(K+1)*n)/(n-K-1)\n",
    "AIC_C"
   ]
  },
  {
   "cell_type": "markdown",
   "metadata": {},
   "source": [
    "#### Pulmón"
   ]
  },
  {
   "cell_type": "code",
   "execution_count": 8,
   "metadata": {},
   "outputs": [],
   "source": [
    "def modelo_exponencial1(t):\n",
    "    p=(0.327,1)\n",
    "    return 1*np.exp(p[0]*t)"
   ]
  },
  {
   "cell_type": "code",
   "execution_count": 9,
   "metadata": {},
   "outputs": [],
   "source": [
    "SSE_E2=0\n",
    "y_subs = list()\n",
    "for i in xPu:\n",
    "    y = modelo_exponencial1(i)\n",
    "    y_subs.append(y)\n",
    "    n=len(xPu)\n",
    "for i in range(len(yPu)):\n",
    "    SSE_E2 = SSE_E2 + (yPu[i] - y_subs[i])**2"
   ]
  },
  {
   "cell_type": "code",
   "execution_count": 10,
   "metadata": {},
   "outputs": [
    {
     "data": {
      "text/latex": [
       "$\\displaystyle 32.184712159905$"
      ],
      "text/plain": [
       "32.1847121599050"
      ]
     },
     "execution_count": 10,
     "metadata": {},
     "output_type": "execute_result"
    }
   ],
   "source": [
    "n = len(xPu)\n",
    "AIC = n+sp.log(SSE_E2/n)\n",
    "AIC"
   ]
  },
  {
   "cell_type": "code",
   "execution_count": 11,
   "metadata": {},
   "outputs": [
    {
     "data": {
      "text/latex": [
       "$\\displaystyle 36.6291566043494$"
      ],
      "text/plain": [
       "36.6291566043494"
      ]
     },
     "execution_count": 11,
     "metadata": {},
     "output_type": "execute_result"
    }
   ],
   "source": [
    "K = 1\n",
    "AIC_C = AIC + (2*(K+1)*n)/(n-K-1)\n",
    "AIC_C"
   ]
  },
  {
   "cell_type": "markdown",
   "metadata": {},
   "source": [
    "### Modelo exponencial $V_0$"
   ]
  },
  {
   "cell_type": "markdown",
   "metadata": {},
   "source": [
    "#### Pecho"
   ]
  },
  {
   "cell_type": "code",
   "execution_count": 12,
   "metadata": {},
   "outputs": [],
   "source": [
    "def modelo_exponencial(t):\n",
    "    p=(106.277,0.076)\n",
    "    return p[0]*np.exp(p[1]*t)"
   ]
  },
  {
   "cell_type": "code",
   "execution_count": 13,
   "metadata": {},
   "outputs": [],
   "source": [
    "SSE_EV1 = 0\n",
    "y_subs = list()\n",
    "for i in xPe:\n",
    "    y = modelo_exponencial(i)\n",
    "    y_subs.append(y)\n",
    "    n=len(xPe)\n",
    "for i in range(len(yPe)):\n",
    "    SSE_EV1 = SSE_EV1 + (yPe[i] - y_subs[i])**2\n"
   ]
  },
  {
   "cell_type": "code",
   "execution_count": 14,
   "metadata": {},
   "outputs": [
    {
     "data": {
      "text/latex": [
       "$\\displaystyle 36.466042498993$"
      ],
      "text/plain": [
       "36.4660424989930"
      ]
     },
     "execution_count": 14,
     "metadata": {},
     "output_type": "execute_result"
    }
   ],
   "source": [
    "n = len(xPe)\n",
    "AIC_V1 = n+sp.log(SSE_EV1/n)\n",
    "AIC_V1"
   ]
  },
  {
   "cell_type": "code",
   "execution_count": 15,
   "metadata": {},
   "outputs": [
    {
     "data": {
      "text/latex": [
       "$\\displaystyle 43.216042498993$"
      ],
      "text/plain": [
       "43.2160424989930"
      ]
     },
     "execution_count": 15,
     "metadata": {},
     "output_type": "execute_result"
    }
   ],
   "source": [
    "K = 2\n",
    "AICc_V1 = AIC_V1 + (2*(K+1)*n)/(n-K-1)\n",
    "AICc_V1"
   ]
  },
  {
   "cell_type": "markdown",
   "metadata": {},
   "source": [
    "#### Pulmón"
   ]
  },
  {
   "cell_type": "code",
   "execution_count": 16,
   "metadata": {},
   "outputs": [],
   "source": [
    "def modelo_exponencial(t):\n",
    "    p=(81.771,0.134)\n",
    "    return p[0]*np.exp(p[1]*t)"
   ]
  },
  {
   "cell_type": "code",
   "execution_count": 17,
   "metadata": {},
   "outputs": [],
   "source": [
    "SSE_EV2 = 0\n",
    "y_subs = list()\n",
    "for i in xPu:\n",
    "    y = modelo_exponencial(i)\n",
    "    y_subs.append(y)\n",
    "    n=len(xPu)\n",
    "for i in range(len(yPu)):\n",
    "    SSE_EV2 = SSE_EV2 + (yPu[i] - y_subs[i])**2"
   ]
  },
  {
   "cell_type": "code",
   "execution_count": 18,
   "metadata": {},
   "outputs": [
    {
     "data": {
      "text/latex": [
       "$\\displaystyle 29.7359201686471$"
      ],
      "text/plain": [
       "29.7359201686471"
      ]
     },
     "execution_count": 18,
     "metadata": {},
     "output_type": "execute_result"
    }
   ],
   "source": [
    "n = len(xPu)\n",
    "AIC_EV2 = n+sp.log(SSE_EV2/n)\n",
    "AIC_EV2"
   ]
  },
  {
   "cell_type": "code",
   "execution_count": 19,
   "metadata": {},
   "outputs": [
    {
     "data": {
      "text/latex": [
       "$\\displaystyle 36.7947436980589$"
      ],
      "text/plain": [
       "36.7947436980589"
      ]
     },
     "execution_count": 19,
     "metadata": {},
     "output_type": "execute_result"
    }
   ],
   "source": [
    "K = 2\n",
    "AICc_EV2 = AIC_EV2 + (2*(K+1)*n)/(n-K-1)\n",
    "AICc_EV2"
   ]
  },
  {
   "cell_type": "markdown",
   "metadata": {},
   "source": [
    "### Modelo exponencial-lineal"
   ]
  },
  {
   "cell_type": "markdown",
   "metadata": {},
   "source": [
    "#### Pecho"
   ]
  },
  {
   "cell_type": "code",
   "execution_count": 20,
   "metadata": {},
   "outputs": [],
   "source": [
    "def modelo_exp(t):\n",
    "    p=(0.22285493,9.48174239)\n",
    "    return 1*np.exp(p[0]*t)\n",
    "def modelo_lineal(t):\n",
    "    p=(0.22285493,9.48174239)\n",
    "    return p[1]*t+978.3614"
   ]
  },
  {
   "cell_type": "code",
   "execution_count": 21,
   "metadata": {},
   "outputs": [],
   "source": [
    "SSE_EL=0\n",
    "\n",
    "y_subs=list()\n",
    "for i in xPe[1:26]:\n",
    "    y = modelo_exp(i)\n",
    "    y_subs.append(y)\n",
    "\n",
    "for i in xPe[25:]:\n",
    "    y = modelo_lineal(i)\n",
    "    y_subs.append(y)\n",
    "\n",
    "n = len(xPe)    \n",
    "for i in range(len(yPe)):\n",
    "    SSE_EL = SSE_EL + (yPe[i] - y_subs[i])**2"
   ]
  },
  {
   "cell_type": "code",
   "execution_count": 22,
   "metadata": {},
   "outputs": [
    {
     "data": {
      "text/latex": [
       "$\\displaystyle 39.2703357598745$"
      ],
      "text/plain": [
       "39.2703357598745"
      ]
     },
     "execution_count": 22,
     "metadata": {},
     "output_type": "execute_result"
    }
   ],
   "source": [
    "n = len(xPe)\n",
    "AIC_EL = n+sp.log(SSE_EL/n)\n",
    "AIC_EL"
   ]
  },
  {
   "cell_type": "code",
   "execution_count": 23,
   "metadata": {
    "scrolled": true
   },
   "outputs": [
    {
     "data": {
      "text/latex": [
       "$\\displaystyle 46.0203357598745$"
      ],
      "text/plain": [
       "46.0203357598745"
      ]
     },
     "execution_count": 23,
     "metadata": {},
     "output_type": "execute_result"
    }
   ],
   "source": [
    "K = 2\n",
    "AIC_CEL = AIC_EL + (2*(K+1)*n)/(n-K-1)\n",
    "AIC_CEL"
   ]
  },
  {
   "cell_type": "markdown",
   "metadata": {},
   "source": [
    "#### Pulmón"
   ]
  },
  {
   "cell_type": "code",
   "execution_count": 24,
   "metadata": {},
   "outputs": [],
   "source": [
    "def modelo_exp(t):\n",
    "    p=(0.30017147,6.28258484)\n",
    "    return 1*np.exp(p[0]*t)\n",
    "def modelo_lineal(t):\n",
    "    p=(0.30017147,6.28258484)\n",
    "    return p[1]*t+978.3614"
   ]
  },
  {
   "cell_type": "code",
   "execution_count": 25,
   "metadata": {},
   "outputs": [],
   "source": [
    "SSE_EL2=0\n",
    "\n",
    "y_subs=list()\n",
    "for i in xPu[1:18]:\n",
    "    y = modelo_exp(i)\n",
    "    y_subs.append(y)\n",
    "\n",
    "for i in xPu[17:]:\n",
    "    y = modelo_lineal(i)\n",
    "    y_subs.append(y)\n",
    "\n",
    "n = len(xPu)    \n",
    "for i in range(len(yPu)):\n",
    "    SSE_EL2 = SSE_EL2 + (yPu[i] - y_subs[i])**2"
   ]
  },
  {
   "cell_type": "code",
   "execution_count": 26,
   "metadata": {},
   "outputs": [
    {
     "data": {
      "text/latex": [
       "$\\displaystyle 32.3374430120231$"
      ],
      "text/plain": [
       "32.3374430120231"
      ]
     },
     "execution_count": 26,
     "metadata": {},
     "output_type": "execute_result"
    }
   ],
   "source": [
    "n = len(xPu)\n",
    "AIC_EL = n+sp.log(SSE_EL2/n)\n",
    "AIC_EL"
   ]
  },
  {
   "cell_type": "code",
   "execution_count": 27,
   "metadata": {},
   "outputs": [
    {
     "data": {
      "text/latex": [
       "$\\displaystyle 39.3962665414349$"
      ],
      "text/plain": [
       "39.3962665414349"
      ]
     },
     "execution_count": 27,
     "metadata": {},
     "output_type": "execute_result"
    }
   ],
   "source": [
    "K = 2\n",
    "AIC_CEL = AIC_EL + (2*(K+1)*n)/(n-K-1)\n",
    "AIC_CEL"
   ]
  },
  {
   "cell_type": "markdown",
   "metadata": {},
   "source": [
    "### Modelo logístico"
   ]
  },
  {
   "cell_type": "markdown",
   "metadata": {},
   "source": [
    "#### Pecho"
   ]
  },
  {
   "cell_type": "code",
   "execution_count": 28,
   "metadata": {},
   "outputs": [],
   "source": [
    "def modelo_logistico(t):\n",
    "    p = (0.302, 1479.278)\n",
    "    return (p[1]*1*np.exp(p[0]*t))/(p[1]+1*np.exp(p[0]*t)-1)"
   ]
  },
  {
   "cell_type": "code",
   "execution_count": 29,
   "metadata": {},
   "outputs": [],
   "source": [
    "SSE_L1=0\n",
    "y_subs = list()\n",
    "for i in xPe:\n",
    "    y = modelo_logistico(i)\n",
    "    y_subs.append(y)\n",
    "    n=len(xPe)\n",
    "for i in range(len(yPe)):\n",
    "    SSE_L1 = SSE_L1 + (yPe[i] - y_subs[i])**2\n",
    "\n"
   ]
  },
  {
   "cell_type": "code",
   "execution_count": 30,
   "metadata": {},
   "outputs": [
    {
     "data": {
      "text/latex": [
       "$\\displaystyle 37.1361036937524$"
      ],
      "text/plain": [
       "37.1361036937524"
      ]
     },
     "execution_count": 30,
     "metadata": {},
     "output_type": "execute_result"
    }
   ],
   "source": [
    "n = len(xPe)\n",
    "AIC_LPe = n+sp.log(SSE_L1/n)\n",
    "AIC_LPe"
   ]
  },
  {
   "cell_type": "code",
   "execution_count": 31,
   "metadata": {},
   "outputs": [
    {
     "data": {
      "text/latex": [
       "$\\displaystyle 43.8861036937524$"
      ],
      "text/plain": [
       "43.8861036937524"
      ]
     },
     "execution_count": 31,
     "metadata": {},
     "output_type": "execute_result"
    }
   ],
   "source": [
    "K = 2\n",
    "AICc_LPe2 = AIC_LPe + (2*(K+1)*n)/(n-K-1)\n",
    "AICc_LPe2"
   ]
  },
  {
   "cell_type": "markdown",
   "metadata": {},
   "source": [
    "#### Pulmón"
   ]
  },
  {
   "cell_type": "code",
   "execution_count": 32,
   "metadata": {},
   "outputs": [],
   "source": [
    "def modelo_logistico(t):\n",
    "    p = (0.462, 1637.694)\n",
    "    return (p[1]*1*np.exp(p[0]*t))/(p[1]+1*np.exp(p[0]*t)-1)"
   ]
  },
  {
   "cell_type": "code",
   "execution_count": 33,
   "metadata": {},
   "outputs": [],
   "source": [
    "SSE_L2=0\n",
    "y_subs = list()\n",
    "for i in xPu:\n",
    "    y = modelo_logistico(i)\n",
    "    y_subs.append(y)\n",
    "    n=len(xPu)\n",
    "for i in range(len(yPu)):\n",
    "    SSE_L2 = SSE_L2 + (yPu[i] - y_subs[i])**2"
   ]
  },
  {
   "cell_type": "code",
   "execution_count": 34,
   "metadata": {},
   "outputs": [
    {
     "data": {
      "text/latex": [
       "$\\displaystyle 29.0700858354735$"
      ],
      "text/plain": [
       "29.0700858354735"
      ]
     },
     "execution_count": 34,
     "metadata": {},
     "output_type": "execute_result"
    }
   ],
   "source": [
    "n = len(xPu)\n",
    "AIC_LPulmon = n+sp.log(SSE_L2/n)\n",
    "AIC_LPulmon"
   ]
  },
  {
   "cell_type": "code",
   "execution_count": 35,
   "metadata": {},
   "outputs": [
    {
     "data": {
      "text/latex": [
       "$\\displaystyle 36.1289093648853$"
      ],
      "text/plain": [
       "36.1289093648853"
      ]
     },
     "execution_count": 35,
     "metadata": {},
     "output_type": "execute_result"
    }
   ],
   "source": [
    "K = 2\n",
    "AICc_LPulmon2 = AIC_LPulmon + (2*(K+1)*n)/(n-K-1)\n",
    "AICc_LPulmon2"
   ]
  },
  {
   "cell_type": "markdown",
   "metadata": {},
   "source": [
    "###  Modelo logístico generalizado"
   ]
  },
  {
   "cell_type": "markdown",
   "metadata": {},
   "source": [
    "#### Pecho"
   ]
  },
  {
   "cell_type": "code",
   "execution_count": 36,
   "metadata": {},
   "outputs": [],
   "source": [
    "def modelo_lgeneralizado(t):\n",
    "    p=(63.622, 0.001, 2585.737)\n",
    "    return((p[2])/((1**p[1]+(p[2]**p[1]-1**p[1])*np.exp(-p[0]*p[1]*t))**(1/p[1])))\n"
   ]
  },
  {
   "cell_type": "code",
   "execution_count": 37,
   "metadata": {},
   "outputs": [],
   "source": [
    "SSE_LG1=0\n",
    "y_subs = list()\n",
    "for i in xPe:\n",
    "    y = modelo_lgeneralizado(i)\n",
    "    y_subs.append(y)\n",
    "    n=len(xPe)\n",
    "\n",
    "for i in range(len(yPe)):\n",
    "    SSE_LG1 = SSE_LG1 + (yPe[i] - y_subs[i])**2\n"
   ]
  },
  {
   "cell_type": "code",
   "execution_count": 38,
   "metadata": {},
   "outputs": [
    {
     "data": {
      "text/latex": [
       "$\\displaystyle 38.1869192147597$"
      ],
      "text/plain": [
       "38.1869192147597"
      ]
     },
     "execution_count": 38,
     "metadata": {},
     "output_type": "execute_result"
    }
   ],
   "source": [
    "n = len(xPe)\n",
    "AIC_LGPe = n+sp.log(SSE_LG1/n)\n",
    "AIC_LGPe"
   ]
  },
  {
   "cell_type": "code",
   "execution_count": 39,
   "metadata": {},
   "outputs": [
    {
     "data": {
      "text/latex": [
       "$\\displaystyle 47.5782235625858$"
      ],
      "text/plain": [
       "47.5782235625858"
      ]
     },
     "execution_count": 39,
     "metadata": {},
     "output_type": "execute_result"
    }
   ],
   "source": [
    "K = 3\n",
    "AIC_LGPe2 = AIC_LGPe + (2*(K+1)*n)/(n-K-1)\n",
    "AIC_LGPe2"
   ]
  },
  {
   "cell_type": "markdown",
   "metadata": {},
   "source": [
    "#### Pulmón"
   ]
  },
  {
   "cell_type": "code",
   "execution_count": 40,
   "metadata": {},
   "outputs": [],
   "source": [
    "def modelo_lgeneralizado(t):\n",
    "    p=(1.055, 0.144, 2598.409)\n",
    "    return((p[2])/((1**p[1]+(p[2]**p[1]-1**p[1])*np.exp(-p[0]*p[1]*t))**(1/p[1])))\n"
   ]
  },
  {
   "cell_type": "code",
   "execution_count": 41,
   "metadata": {},
   "outputs": [],
   "source": [
    "SSE_LG2=0\n",
    "y_subs = list()\n",
    "for i in xPu:\n",
    "    y = modelo_lgeneralizado(i)\n",
    "    y_subs.append(y)\n",
    "    n=len(xPu)\n",
    "for i in range(len(yPu)):\n",
    "    SSE_LG2 = SSE_LG2 + (yPu[i] - y_subs[i])**2\n"
   ]
  },
  {
   "cell_type": "code",
   "execution_count": 42,
   "metadata": {},
   "outputs": [
    {
     "data": {
      "text/latex": [
       "$\\displaystyle 27.8052925364578$"
      ],
      "text/plain": [
       "27.8052925364578"
      ]
     },
     "execution_count": 42,
     "metadata": {},
     "output_type": "execute_result"
    }
   ],
   "source": [
    "n = len(xPu)\n",
    "AIC_LGPu = n+sp.log(SSE_LG2/n)\n",
    "AIC_LGPu"
   ]
  },
  {
   "cell_type": "code",
   "execution_count": 43,
   "metadata": {},
   "outputs": [
    {
     "data": {
      "text/latex": [
       "$\\displaystyle 37.8052925364578$"
      ],
      "text/plain": [
       "37.8052925364578"
      ]
     },
     "execution_count": 43,
     "metadata": {},
     "output_type": "execute_result"
    }
   ],
   "source": [
    "K = 3\n",
    "AICc_LGPu2 = AIC_LGPu + (2*(K+1)*n)/(n-K-1)\n",
    "AICc_LGPu2"
   ]
  },
  {
   "cell_type": "markdown",
   "metadata": {},
   "source": [
    "### Modelo de Gompertz"
   ]
  },
  {
   "cell_type": "markdown",
   "metadata": {},
   "source": [
    "#### Pecho"
   ]
  },
  {
   "cell_type": "code",
   "execution_count": 44,
   "metadata": {},
   "outputs": [],
   "source": [
    "def modelo_gompertz(t):\n",
    "    p = (0.597, 0.076)\n",
    "    return 1*np.exp((p[0]/p[1])*(1-np.exp(-p[1]*t)))"
   ]
  },
  {
   "cell_type": "code",
   "execution_count": 45,
   "metadata": {},
   "outputs": [],
   "source": [
    "SSE_G1=0\n",
    "y_subs = list()\n",
    "for i in xPe:\n",
    "    y = modelo_gompertz(i)\n",
    "    y_subs.append(y)\n",
    "    n=len(xPe)\n",
    "for i in range(len(yPe)):\n",
    "    SSE_G1 = SSE_G1 + (yPe[i] - y_subs[i])**2"
   ]
  },
  {
   "cell_type": "code",
   "execution_count": 46,
   "metadata": {},
   "outputs": [
    {
     "data": {
      "text/latex": [
       "$\\displaystyle 35.987313343502$"
      ],
      "text/plain": [
       "35.9873133435020"
      ]
     },
     "execution_count": 46,
     "metadata": {},
     "output_type": "execute_result"
    }
   ],
   "source": [
    "n = len(xPe)\n",
    "AIC_G = n+sp.log(SSE_G1/n)\n",
    "AIC_G\n"
   ]
  },
  {
   "cell_type": "code",
   "execution_count": 47,
   "metadata": {},
   "outputs": [
    {
     "data": {
      "text/latex": [
       "$\\displaystyle 42.737313343502$"
      ],
      "text/plain": [
       "42.7373133435020"
      ]
     },
     "execution_count": 47,
     "metadata": {},
     "output_type": "execute_result"
    }
   ],
   "source": [
    "K = 2\n",
    "AICc_G2 = AIC_G + (2*(K+1)*n)/(n-K-1)\n",
    "AICc_G2"
   ]
  },
  {
   "cell_type": "markdown",
   "metadata": {},
   "source": [
    "#### Pulmón"
   ]
  },
  {
   "cell_type": "code",
   "execution_count": 48,
   "metadata": {},
   "outputs": [],
   "source": [
    "def modelo_gompertz(t):\n",
    "    p = (0.874, 0.108)\n",
    "    return 1*np.exp((p[0]/p[1])*(1-np.exp(-p[1]*t)))"
   ]
  },
  {
   "cell_type": "code",
   "execution_count": 49,
   "metadata": {},
   "outputs": [],
   "source": [
    "SSE_G2=0\n",
    "y_subs = list()\n",
    "for i in xPu:\n",
    "    y = modelo_gompertz(i)\n",
    "    y_subs.append(y)\n",
    "    n=len(xPu)\n",
    "for i in range(len(yPu)):\n",
    "    SSE_G2 = SSE_G2 + (yPu[i] - y_subs[i])**2"
   ]
  },
  {
   "cell_type": "code",
   "execution_count": 50,
   "metadata": {},
   "outputs": [
    {
     "data": {
      "text/latex": [
       "$\\displaystyle 28.039501701155$"
      ],
      "text/plain": [
       "28.0395017011550"
      ]
     },
     "execution_count": 50,
     "metadata": {},
     "output_type": "execute_result"
    }
   ],
   "source": [
    "n = len(xPu)\n",
    "AIC_GPU = n+sp.log(SSE_G2/n)\n",
    "AIC_GPU\n"
   ]
  },
  {
   "cell_type": "code",
   "execution_count": 51,
   "metadata": {},
   "outputs": [
    {
     "data": {
      "text/latex": [
       "$\\displaystyle 35.0983252305668$"
      ],
      "text/plain": [
       "35.0983252305668"
      ]
     },
     "execution_count": 51,
     "metadata": {},
     "output_type": "execute_result"
    }
   ],
   "source": [
    "K = 2\n",
    "AICc_GPU2 = AIC_GPU + (2*(K+1)*n)/(n-K-1)\n",
    "AICc_GPU2"
   ]
  },
  {
   "cell_type": "markdown",
   "metadata": {},
   "source": [
    "### Modelo de Von Bertalanffy"
   ]
  },
  {
   "cell_type": "code",
   "execution_count": 52,
   "metadata": {},
   "outputs": [],
   "source": [
    "def modelo_Bertalanffy(t):\n",
    "    p=(1.216, 0.088, 0.705)\n",
    "    return ((p[0]/p[1])+(1**(1-p[2])-(p[0]/p[1]))*sp.exp(-p[1]*t*(1-p[2])))**(1/(1-p[2]))"
   ]
  },
  {
   "cell_type": "markdown",
   "metadata": {},
   "source": [
    "#### Pecho"
   ]
  },
  {
   "cell_type": "code",
   "execution_count": 53,
   "metadata": {},
   "outputs": [],
   "source": [
    "SSE_V1=0\n",
    "y_subs = list()\n",
    "for i in xPe:\n",
    "    y = modelo_Bertalanffy(i)\n",
    "    y_subs.append(y)\n",
    "    n=len(xPe)\n",
    "for i in range(len(yPe)):\n",
    "    SSE_V1 = SSE_V1 + (yPe[i] - y_subs[i])**2"
   ]
  },
  {
   "cell_type": "code",
   "execution_count": 54,
   "metadata": {},
   "outputs": [
    {
     "data": {
      "text/latex": [
       "$\\displaystyle 35.8253748596372$"
      ],
      "text/plain": [
       "35.8253748596372"
      ]
     },
     "execution_count": 54,
     "metadata": {},
     "output_type": "execute_result"
    }
   ],
   "source": [
    "n = len(xPe)\n",
    "AIC_V1 = n+sp.log(SSE_V1/n)\n",
    "AIC_V1"
   ]
  },
  {
   "cell_type": "code",
   "execution_count": 55,
   "metadata": {},
   "outputs": [
    {
     "data": {
      "text/latex": [
       "$\\displaystyle 45.2166792074633$"
      ],
      "text/plain": [
       "45.2166792074633"
      ]
     },
     "execution_count": 55,
     "metadata": {},
     "output_type": "execute_result"
    }
   ],
   "source": [
    "K = 3\n",
    "AICc_V1 = AIC_V1 + (2*(K+1)*n)/(n-K-1)\n",
    "AICc_V1"
   ]
  },
  {
   "cell_type": "markdown",
   "metadata": {},
   "source": [
    "#### Pulmon"
   ]
  },
  {
   "cell_type": "code",
   "execution_count": 56,
   "metadata": {},
   "outputs": [],
   "source": [
    "def modelo_Bertalanffy(t):\n",
    "    p=(21.081, 20.199, 0.995)\n",
    "    return ((p[0]/p[1])+(1**(1-p[2])-(p[0]/p[1]))*sp.exp(-p[1]*t*(1-p[2])))**(1/(1-p[2]))"
   ]
  },
  {
   "cell_type": "code",
   "execution_count": 57,
   "metadata": {},
   "outputs": [],
   "source": [
    "SSE_V2=0\n",
    "y_subs = list()\n",
    "for i in xPu:\n",
    "    y = modelo_Bertalanffy(i)\n",
    "    y_subs.append(y)\n",
    "    n=len(xPu)\n",
    "for i in range(len(yPu)):\n",
    "    SSE_V2 = SSE_V2 + (yPu[i] - y_subs[i])**2\n",
    "\n"
   ]
  },
  {
   "cell_type": "code",
   "execution_count": 58,
   "metadata": {},
   "outputs": [
    {
     "data": {
      "text/latex": [
       "$\\displaystyle 28.039501701155$"
      ],
      "text/plain": [
       "28.0395017011550"
      ]
     },
     "execution_count": 58,
     "metadata": {},
     "output_type": "execute_result"
    }
   ],
   "source": [
    "n = len(xPu)\n",
    "AIC_V2 = n+sp.log(SSE_V2/n)\n",
    "AIC_GPU"
   ]
  },
  {
   "cell_type": "code",
   "execution_count": 59,
   "metadata": {},
   "outputs": [
    {
     "data": {
      "text/latex": [
       "$\\displaystyle 41.1051436198031$"
      ],
      "text/plain": [
       "41.1051436198031"
      ]
     },
     "execution_count": 59,
     "metadata": {},
     "output_type": "execute_result"
    }
   ],
   "source": [
    "K = 3\n",
    "AIC_cV2 = AIC_V2 + (2*(K+1)*n)/(n-K-1)\n",
    "AIC_cV2"
   ]
  },
  {
   "cell_type": "markdown",
   "metadata": {},
   "source": [
    "### Modelo Power Law"
   ]
  },
  {
   "cell_type": "markdown",
   "metadata": {},
   "source": [
    "#### Pecho"
   ]
  },
  {
   "cell_type": "code",
   "execution_count": 60,
   "metadata": {},
   "outputs": [],
   "source": [
    "def modelo_Power_law(t):\n",
    "    p=(0.526, 1.884)\n",
    "    return ((p[0]*(1**(1-p[0]))-(1**(1-p[0]))-p[1]*t*(p[0]-1)**2)/(p[0]-1))**(-1/(p[0]-1))"
   ]
  },
  {
   "cell_type": "code",
   "execution_count": 61,
   "metadata": {},
   "outputs": [],
   "source": [
    "SSE_P1=0\n",
    "y_subs = list()\n",
    "for i in xPe:\n",
    "    y = modelo_Power_law(i)\n",
    "    y_subs.append(y)\n",
    "    n=len(xPe)\n",
    "for i in range(len(yPe)):\n",
    "    SSE_P1 = SSE_P1 + (yPe[i] - y_subs[i])**2\n",
    "\n"
   ]
  },
  {
   "cell_type": "code",
   "execution_count": 62,
   "metadata": {},
   "outputs": [
    {
     "data": {
      "text/latex": [
       "$\\displaystyle 35.8660657242629$"
      ],
      "text/plain": [
       "35.8660657242629"
      ]
     },
     "execution_count": 62,
     "metadata": {},
     "output_type": "execute_result"
    }
   ],
   "source": [
    "n = len(xPe)\n",
    "AIC_P1 = n+sp.log(SSE_P1/n)\n",
    "AIC_P1"
   ]
  },
  {
   "cell_type": "code",
   "execution_count": 63,
   "metadata": {},
   "outputs": [
    {
     "data": {
      "text/latex": [
       "$\\displaystyle 42.6160657242629$"
      ],
      "text/plain": [
       "42.6160657242629"
      ]
     },
     "execution_count": 63,
     "metadata": {},
     "output_type": "execute_result"
    }
   ],
   "source": [
    "K = 2\n",
    "AICc_P1 = AIC_P1 + (2*(K+1)*n)/(n-K-1)\n",
    "AICc_P1"
   ]
  },
  {
   "cell_type": "markdown",
   "metadata": {},
   "source": [
    "#### Pulmon"
   ]
  },
  {
   "cell_type": "code",
   "execution_count": 64,
   "metadata": {},
   "outputs": [],
   "source": [
    "def modelo_Power_law(t):\n",
    "    p=(0.591, 2.143)\n",
    "    return ((p[0]*(1**(1-p[0]))-(1**(1-p[0]))-p[1]*t*(p[0]-1)**2)/(p[0]-1))**(-1/(p[0]-1))"
   ]
  },
  {
   "cell_type": "code",
   "execution_count": 65,
   "metadata": {},
   "outputs": [],
   "source": [
    "SSE_P2=0\n",
    "y_subs = list()\n",
    "for i in xPu:\n",
    "    y = modelo_Power_law(i)\n",
    "    y_subs.append(y)\n",
    "    n=len(xPu)\n",
    "for i in range(len(yPu)):\n",
    "    SSE_P2 = SSE_P2 + (yPu[i] - y_subs[i])**2"
   ]
  },
  {
   "cell_type": "code",
   "execution_count": 66,
   "metadata": {},
   "outputs": [
    {
     "data": {
      "text/latex": [
       "$\\displaystyle 28.6989510716856$"
      ],
      "text/plain": [
       "28.6989510716856"
      ]
     },
     "execution_count": 66,
     "metadata": {},
     "output_type": "execute_result"
    }
   ],
   "source": [
    "n = len(xPu)\n",
    "AIC_P2 = n+sp.log(SSE_P2/n)\n",
    "AIC_P2"
   ]
  },
  {
   "cell_type": "code",
   "execution_count": 67,
   "metadata": {},
   "outputs": [
    {
     "data": {
      "text/latex": [
       "$\\displaystyle 35.7577746010974$"
      ],
      "text/plain": [
       "35.7577746010974"
      ]
     },
     "execution_count": 67,
     "metadata": {},
     "output_type": "execute_result"
    }
   ],
   "source": [
    "K = 2\n",
    "AICc_P2 = AIC_P2 + (2*(K+1)*n)/(n-K-1)\n",
    "AICc_P2"
   ]
  }
 ],
 "metadata": {
  "kernelspec": {
   "display_name": "Python 3",
   "language": "python",
   "name": "python3"
  },
  "language_info": {
   "codemirror_mode": {
    "name": "ipython",
    "version": 3
   },
   "file_extension": ".py",
   "mimetype": "text/x-python",
   "name": "python",
   "nbconvert_exporter": "python",
   "pygments_lexer": "ipython3",
   "version": "3.8.8"
  }
 },
 "nbformat": 4,
 "nbformat_minor": 4
}
